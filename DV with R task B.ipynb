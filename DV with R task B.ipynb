{
 "cells": [
  {
   "cell_type": "code",
   "execution_count": 1,
   "id": "94b5df6a",
   "metadata": {},
   "outputs": [
    {
     "name": "stderr",
     "output_type": "stream",
     "text": [
      "\n",
      "Attaching package: 'dplyr'\n",
      "\n",
      "The following objects are masked from 'package:stats':\n",
      "\n",
      "    filter, lag\n",
      "\n",
      "The following objects are masked from 'package:base':\n",
      "\n",
      "    intersect, setdiff, setequal, union\n",
      "\n"
     ]
    },
    {
     "data": {
      "text/html": [
       "<table>\n",
       "<thead><tr><th scope=col>Sepal.Length</th><th scope=col>Sepal.Width</th><th scope=col>Petal.Length</th><th scope=col>Petal.Width</th><th scope=col>Species</th></tr></thead>\n",
       "<tbody>\n",
       "\t<tr><td>5.1   </td><td>3.5   </td><td>1.4   </td><td>0.2   </td><td>setosa</td></tr>\n",
       "\t<tr><td>4.9   </td><td>3.0   </td><td>1.4   </td><td>0.2   </td><td>setosa</td></tr>\n",
       "\t<tr><td>4.7   </td><td>3.2   </td><td>1.3   </td><td>0.2   </td><td>setosa</td></tr>\n",
       "\t<tr><td>4.6   </td><td>3.1   </td><td>1.5   </td><td>0.2   </td><td>setosa</td></tr>\n",
       "\t<tr><td>5.0   </td><td>3.6   </td><td>1.4   </td><td>0.2   </td><td>setosa</td></tr>\n",
       "\t<tr><td>5.4   </td><td>3.9   </td><td>1.7   </td><td>0.4   </td><td>setosa</td></tr>\n",
       "\t<tr><td>4.6   </td><td>3.4   </td><td>1.4   </td><td>0.3   </td><td>setosa</td></tr>\n",
       "\t<tr><td>5.0   </td><td>3.4   </td><td>1.5   </td><td>0.2   </td><td>setosa</td></tr>\n",
       "\t<tr><td>4.4   </td><td>2.9   </td><td>1.4   </td><td>0.2   </td><td>setosa</td></tr>\n",
       "\t<tr><td>4.9   </td><td>3.1   </td><td>1.5   </td><td>0.1   </td><td>setosa</td></tr>\n",
       "\t<tr><td>5.4   </td><td>3.7   </td><td>1.5   </td><td>0.2   </td><td>setosa</td></tr>\n",
       "\t<tr><td>4.8   </td><td>3.4   </td><td>1.6   </td><td>0.2   </td><td>setosa</td></tr>\n",
       "\t<tr><td>4.8   </td><td>3.0   </td><td>1.4   </td><td>0.1   </td><td>setosa</td></tr>\n",
       "\t<tr><td>4.3   </td><td>3.0   </td><td>1.1   </td><td>0.1   </td><td>setosa</td></tr>\n",
       "\t<tr><td>5.8   </td><td>4.0   </td><td>1.2   </td><td>0.2   </td><td>setosa</td></tr>\n",
       "\t<tr><td>5.7   </td><td>4.4   </td><td>1.5   </td><td>0.4   </td><td>setosa</td></tr>\n",
       "\t<tr><td>5.4   </td><td>3.9   </td><td>1.3   </td><td>0.4   </td><td>setosa</td></tr>\n",
       "\t<tr><td>5.1   </td><td>3.5   </td><td>1.4   </td><td>0.3   </td><td>setosa</td></tr>\n",
       "\t<tr><td>5.7   </td><td>3.8   </td><td>1.7   </td><td>0.3   </td><td>setosa</td></tr>\n",
       "\t<tr><td>5.1   </td><td>3.8   </td><td>1.5   </td><td>0.3   </td><td>setosa</td></tr>\n",
       "\t<tr><td>5.4   </td><td>3.4   </td><td>1.7   </td><td>0.2   </td><td>setosa</td></tr>\n",
       "\t<tr><td>5.1   </td><td>3.7   </td><td>1.5   </td><td>0.4   </td><td>setosa</td></tr>\n",
       "\t<tr><td>4.6   </td><td>3.6   </td><td>1.0   </td><td>0.2   </td><td>setosa</td></tr>\n",
       "\t<tr><td>5.1   </td><td>3.3   </td><td>1.7   </td><td>0.5   </td><td>setosa</td></tr>\n",
       "\t<tr><td>4.8   </td><td>3.4   </td><td>1.9   </td><td>0.2   </td><td>setosa</td></tr>\n",
       "\t<tr><td>5.0   </td><td>3.0   </td><td>1.6   </td><td>0.2   </td><td>setosa</td></tr>\n",
       "\t<tr><td>5.0   </td><td>3.4   </td><td>1.6   </td><td>0.4   </td><td>setosa</td></tr>\n",
       "\t<tr><td>5.2   </td><td>3.5   </td><td>1.5   </td><td>0.2   </td><td>setosa</td></tr>\n",
       "\t<tr><td>5.2   </td><td>3.4   </td><td>1.4   </td><td>0.2   </td><td>setosa</td></tr>\n",
       "\t<tr><td>4.7   </td><td>3.2   </td><td>1.6   </td><td>0.2   </td><td>setosa</td></tr>\n",
       "\t<tr><td>...</td><td>...</td><td>...</td><td>...</td><td>...</td></tr>\n",
       "\t<tr><td>6.9      </td><td>3.2      </td><td>5.7      </td><td>2.3      </td><td>virginica</td></tr>\n",
       "\t<tr><td>5.6      </td><td>2.8      </td><td>4.9      </td><td>2.0      </td><td>virginica</td></tr>\n",
       "\t<tr><td>7.7      </td><td>2.8      </td><td>6.7      </td><td>2.0      </td><td>virginica</td></tr>\n",
       "\t<tr><td>6.3      </td><td>2.7      </td><td>4.9      </td><td>1.8      </td><td>virginica</td></tr>\n",
       "\t<tr><td>6.7      </td><td>3.3      </td><td>5.7      </td><td>2.1      </td><td>virginica</td></tr>\n",
       "\t<tr><td>7.2      </td><td>3.2      </td><td>6.0      </td><td>1.8      </td><td>virginica</td></tr>\n",
       "\t<tr><td>6.2      </td><td>2.8      </td><td>4.8      </td><td>1.8      </td><td>virginica</td></tr>\n",
       "\t<tr><td>6.1      </td><td>3.0      </td><td>4.9      </td><td>1.8      </td><td>virginica</td></tr>\n",
       "\t<tr><td>6.4      </td><td>2.8      </td><td>5.6      </td><td>2.1      </td><td>virginica</td></tr>\n",
       "\t<tr><td>7.2      </td><td>3.0      </td><td>5.8      </td><td>1.6      </td><td>virginica</td></tr>\n",
       "\t<tr><td>7.4      </td><td>2.8      </td><td>6.1      </td><td>1.9      </td><td>virginica</td></tr>\n",
       "\t<tr><td>7.9      </td><td>3.8      </td><td>6.4      </td><td>2.0      </td><td>virginica</td></tr>\n",
       "\t<tr><td>6.4      </td><td>2.8      </td><td>5.6      </td><td>2.2      </td><td>virginica</td></tr>\n",
       "\t<tr><td>6.3      </td><td>2.8      </td><td>5.1      </td><td>1.5      </td><td>virginica</td></tr>\n",
       "\t<tr><td>6.1      </td><td>2.6      </td><td>5.6      </td><td>1.4      </td><td>virginica</td></tr>\n",
       "\t<tr><td>7.7      </td><td>3.0      </td><td>6.1      </td><td>2.3      </td><td>virginica</td></tr>\n",
       "\t<tr><td>6.3      </td><td>3.4      </td><td>5.6      </td><td>2.4      </td><td>virginica</td></tr>\n",
       "\t<tr><td>6.4      </td><td>3.1      </td><td>5.5      </td><td>1.8      </td><td>virginica</td></tr>\n",
       "\t<tr><td>6.0      </td><td>3.0      </td><td>4.8      </td><td>1.8      </td><td>virginica</td></tr>\n",
       "\t<tr><td>6.9      </td><td>3.1      </td><td>5.4      </td><td>2.1      </td><td>virginica</td></tr>\n",
       "\t<tr><td>6.7      </td><td>3.1      </td><td>5.6      </td><td>2.4      </td><td>virginica</td></tr>\n",
       "\t<tr><td>6.9      </td><td>3.1      </td><td>5.1      </td><td>2.3      </td><td>virginica</td></tr>\n",
       "\t<tr><td>5.8      </td><td>2.7      </td><td>5.1      </td><td>1.9      </td><td>virginica</td></tr>\n",
       "\t<tr><td>6.8      </td><td>3.2      </td><td>5.9      </td><td>2.3      </td><td>virginica</td></tr>\n",
       "\t<tr><td>6.7      </td><td>3.3      </td><td>5.7      </td><td>2.5      </td><td>virginica</td></tr>\n",
       "\t<tr><td>6.7      </td><td>3.0      </td><td>5.2      </td><td>2.3      </td><td>virginica</td></tr>\n",
       "\t<tr><td>6.3      </td><td>2.5      </td><td>5.0      </td><td>1.9      </td><td>virginica</td></tr>\n",
       "\t<tr><td>6.5      </td><td>3.0      </td><td>5.2      </td><td>2.0      </td><td>virginica</td></tr>\n",
       "\t<tr><td>6.2      </td><td>3.4      </td><td>5.4      </td><td>2.3      </td><td>virginica</td></tr>\n",
       "\t<tr><td>5.9      </td><td>3.0      </td><td>5.1      </td><td>1.8      </td><td>virginica</td></tr>\n",
       "</tbody>\n",
       "</table>\n"
      ],
      "text/latex": [
       "\\begin{tabular}{r|lllll}\n",
       " Sepal.Length & Sepal.Width & Petal.Length & Petal.Width & Species\\\\\n",
       "\\hline\n",
       "\t 5.1    & 3.5    & 1.4    & 0.2    & setosa\\\\\n",
       "\t 4.9    & 3.0    & 1.4    & 0.2    & setosa\\\\\n",
       "\t 4.7    & 3.2    & 1.3    & 0.2    & setosa\\\\\n",
       "\t 4.6    & 3.1    & 1.5    & 0.2    & setosa\\\\\n",
       "\t 5.0    & 3.6    & 1.4    & 0.2    & setosa\\\\\n",
       "\t 5.4    & 3.9    & 1.7    & 0.4    & setosa\\\\\n",
       "\t 4.6    & 3.4    & 1.4    & 0.3    & setosa\\\\\n",
       "\t 5.0    & 3.4    & 1.5    & 0.2    & setosa\\\\\n",
       "\t 4.4    & 2.9    & 1.4    & 0.2    & setosa\\\\\n",
       "\t 4.9    & 3.1    & 1.5    & 0.1    & setosa\\\\\n",
       "\t 5.4    & 3.7    & 1.5    & 0.2    & setosa\\\\\n",
       "\t 4.8    & 3.4    & 1.6    & 0.2    & setosa\\\\\n",
       "\t 4.8    & 3.0    & 1.4    & 0.1    & setosa\\\\\n",
       "\t 4.3    & 3.0    & 1.1    & 0.1    & setosa\\\\\n",
       "\t 5.8    & 4.0    & 1.2    & 0.2    & setosa\\\\\n",
       "\t 5.7    & 4.4    & 1.5    & 0.4    & setosa\\\\\n",
       "\t 5.4    & 3.9    & 1.3    & 0.4    & setosa\\\\\n",
       "\t 5.1    & 3.5    & 1.4    & 0.3    & setosa\\\\\n",
       "\t 5.7    & 3.8    & 1.7    & 0.3    & setosa\\\\\n",
       "\t 5.1    & 3.8    & 1.5    & 0.3    & setosa\\\\\n",
       "\t 5.4    & 3.4    & 1.7    & 0.2    & setosa\\\\\n",
       "\t 5.1    & 3.7    & 1.5    & 0.4    & setosa\\\\\n",
       "\t 4.6    & 3.6    & 1.0    & 0.2    & setosa\\\\\n",
       "\t 5.1    & 3.3    & 1.7    & 0.5    & setosa\\\\\n",
       "\t 4.8    & 3.4    & 1.9    & 0.2    & setosa\\\\\n",
       "\t 5.0    & 3.0    & 1.6    & 0.2    & setosa\\\\\n",
       "\t 5.0    & 3.4    & 1.6    & 0.4    & setosa\\\\\n",
       "\t 5.2    & 3.5    & 1.5    & 0.2    & setosa\\\\\n",
       "\t 5.2    & 3.4    & 1.4    & 0.2    & setosa\\\\\n",
       "\t 4.7    & 3.2    & 1.6    & 0.2    & setosa\\\\\n",
       "\t ... & ... & ... & ... & ...\\\\\n",
       "\t 6.9       & 3.2       & 5.7       & 2.3       & virginica\\\\\n",
       "\t 5.6       & 2.8       & 4.9       & 2.0       & virginica\\\\\n",
       "\t 7.7       & 2.8       & 6.7       & 2.0       & virginica\\\\\n",
       "\t 6.3       & 2.7       & 4.9       & 1.8       & virginica\\\\\n",
       "\t 6.7       & 3.3       & 5.7       & 2.1       & virginica\\\\\n",
       "\t 7.2       & 3.2       & 6.0       & 1.8       & virginica\\\\\n",
       "\t 6.2       & 2.8       & 4.8       & 1.8       & virginica\\\\\n",
       "\t 6.1       & 3.0       & 4.9       & 1.8       & virginica\\\\\n",
       "\t 6.4       & 2.8       & 5.6       & 2.1       & virginica\\\\\n",
       "\t 7.2       & 3.0       & 5.8       & 1.6       & virginica\\\\\n",
       "\t 7.4       & 2.8       & 6.1       & 1.9       & virginica\\\\\n",
       "\t 7.9       & 3.8       & 6.4       & 2.0       & virginica\\\\\n",
       "\t 6.4       & 2.8       & 5.6       & 2.2       & virginica\\\\\n",
       "\t 6.3       & 2.8       & 5.1       & 1.5       & virginica\\\\\n",
       "\t 6.1       & 2.6       & 5.6       & 1.4       & virginica\\\\\n",
       "\t 7.7       & 3.0       & 6.1       & 2.3       & virginica\\\\\n",
       "\t 6.3       & 3.4       & 5.6       & 2.4       & virginica\\\\\n",
       "\t 6.4       & 3.1       & 5.5       & 1.8       & virginica\\\\\n",
       "\t 6.0       & 3.0       & 4.8       & 1.8       & virginica\\\\\n",
       "\t 6.9       & 3.1       & 5.4       & 2.1       & virginica\\\\\n",
       "\t 6.7       & 3.1       & 5.6       & 2.4       & virginica\\\\\n",
       "\t 6.9       & 3.1       & 5.1       & 2.3       & virginica\\\\\n",
       "\t 5.8       & 2.7       & 5.1       & 1.9       & virginica\\\\\n",
       "\t 6.8       & 3.2       & 5.9       & 2.3       & virginica\\\\\n",
       "\t 6.7       & 3.3       & 5.7       & 2.5       & virginica\\\\\n",
       "\t 6.7       & 3.0       & 5.2       & 2.3       & virginica\\\\\n",
       "\t 6.3       & 2.5       & 5.0       & 1.9       & virginica\\\\\n",
       "\t 6.5       & 3.0       & 5.2       & 2.0       & virginica\\\\\n",
       "\t 6.2       & 3.4       & 5.4       & 2.3       & virginica\\\\\n",
       "\t 5.9       & 3.0       & 5.1       & 1.8       & virginica\\\\\n",
       "\\end{tabular}\n"
      ],
      "text/markdown": [
       "\n",
       "| Sepal.Length | Sepal.Width | Petal.Length | Petal.Width | Species |\n",
       "|---|---|---|---|---|\n",
       "| 5.1    | 3.5    | 1.4    | 0.2    | setosa |\n",
       "| 4.9    | 3.0    | 1.4    | 0.2    | setosa |\n",
       "| 4.7    | 3.2    | 1.3    | 0.2    | setosa |\n",
       "| 4.6    | 3.1    | 1.5    | 0.2    | setosa |\n",
       "| 5.0    | 3.6    | 1.4    | 0.2    | setosa |\n",
       "| 5.4    | 3.9    | 1.7    | 0.4    | setosa |\n",
       "| 4.6    | 3.4    | 1.4    | 0.3    | setosa |\n",
       "| 5.0    | 3.4    | 1.5    | 0.2    | setosa |\n",
       "| 4.4    | 2.9    | 1.4    | 0.2    | setosa |\n",
       "| 4.9    | 3.1    | 1.5    | 0.1    | setosa |\n",
       "| 5.4    | 3.7    | 1.5    | 0.2    | setosa |\n",
       "| 4.8    | 3.4    | 1.6    | 0.2    | setosa |\n",
       "| 4.8    | 3.0    | 1.4    | 0.1    | setosa |\n",
       "| 4.3    | 3.0    | 1.1    | 0.1    | setosa |\n",
       "| 5.8    | 4.0    | 1.2    | 0.2    | setosa |\n",
       "| 5.7    | 4.4    | 1.5    | 0.4    | setosa |\n",
       "| 5.4    | 3.9    | 1.3    | 0.4    | setosa |\n",
       "| 5.1    | 3.5    | 1.4    | 0.3    | setosa |\n",
       "| 5.7    | 3.8    | 1.7    | 0.3    | setosa |\n",
       "| 5.1    | 3.8    | 1.5    | 0.3    | setosa |\n",
       "| 5.4    | 3.4    | 1.7    | 0.2    | setosa |\n",
       "| 5.1    | 3.7    | 1.5    | 0.4    | setosa |\n",
       "| 4.6    | 3.6    | 1.0    | 0.2    | setosa |\n",
       "| 5.1    | 3.3    | 1.7    | 0.5    | setosa |\n",
       "| 4.8    | 3.4    | 1.9    | 0.2    | setosa |\n",
       "| 5.0    | 3.0    | 1.6    | 0.2    | setosa |\n",
       "| 5.0    | 3.4    | 1.6    | 0.4    | setosa |\n",
       "| 5.2    | 3.5    | 1.5    | 0.2    | setosa |\n",
       "| 5.2    | 3.4    | 1.4    | 0.2    | setosa |\n",
       "| 4.7    | 3.2    | 1.6    | 0.2    | setosa |\n",
       "| ... | ... | ... | ... | ... |\n",
       "| 6.9       | 3.2       | 5.7       | 2.3       | virginica |\n",
       "| 5.6       | 2.8       | 4.9       | 2.0       | virginica |\n",
       "| 7.7       | 2.8       | 6.7       | 2.0       | virginica |\n",
       "| 6.3       | 2.7       | 4.9       | 1.8       | virginica |\n",
       "| 6.7       | 3.3       | 5.7       | 2.1       | virginica |\n",
       "| 7.2       | 3.2       | 6.0       | 1.8       | virginica |\n",
       "| 6.2       | 2.8       | 4.8       | 1.8       | virginica |\n",
       "| 6.1       | 3.0       | 4.9       | 1.8       | virginica |\n",
       "| 6.4       | 2.8       | 5.6       | 2.1       | virginica |\n",
       "| 7.2       | 3.0       | 5.8       | 1.6       | virginica |\n",
       "| 7.4       | 2.8       | 6.1       | 1.9       | virginica |\n",
       "| 7.9       | 3.8       | 6.4       | 2.0       | virginica |\n",
       "| 6.4       | 2.8       | 5.6       | 2.2       | virginica |\n",
       "| 6.3       | 2.8       | 5.1       | 1.5       | virginica |\n",
       "| 6.1       | 2.6       | 5.6       | 1.4       | virginica |\n",
       "| 7.7       | 3.0       | 6.1       | 2.3       | virginica |\n",
       "| 6.3       | 3.4       | 5.6       | 2.4       | virginica |\n",
       "| 6.4       | 3.1       | 5.5       | 1.8       | virginica |\n",
       "| 6.0       | 3.0       | 4.8       | 1.8       | virginica |\n",
       "| 6.9       | 3.1       | 5.4       | 2.1       | virginica |\n",
       "| 6.7       | 3.1       | 5.6       | 2.4       | virginica |\n",
       "| 6.9       | 3.1       | 5.1       | 2.3       | virginica |\n",
       "| 5.8       | 2.7       | 5.1       | 1.9       | virginica |\n",
       "| 6.8       | 3.2       | 5.9       | 2.3       | virginica |\n",
       "| 6.7       | 3.3       | 5.7       | 2.5       | virginica |\n",
       "| 6.7       | 3.0       | 5.2       | 2.3       | virginica |\n",
       "| 6.3       | 2.5       | 5.0       | 1.9       | virginica |\n",
       "| 6.5       | 3.0       | 5.2       | 2.0       | virginica |\n",
       "| 6.2       | 3.4       | 5.4       | 2.3       | virginica |\n",
       "| 5.9       | 3.0       | 5.1       | 1.8       | virginica |\n",
       "\n"
      ],
      "text/plain": [
       "    Sepal.Length Sepal.Width Petal.Length Petal.Width Species  \n",
       "1   5.1          3.5         1.4          0.2         setosa   \n",
       "2   4.9          3.0         1.4          0.2         setosa   \n",
       "3   4.7          3.2         1.3          0.2         setosa   \n",
       "4   4.6          3.1         1.5          0.2         setosa   \n",
       "5   5.0          3.6         1.4          0.2         setosa   \n",
       "6   5.4          3.9         1.7          0.4         setosa   \n",
       "7   4.6          3.4         1.4          0.3         setosa   \n",
       "8   5.0          3.4         1.5          0.2         setosa   \n",
       "9   4.4          2.9         1.4          0.2         setosa   \n",
       "10  4.9          3.1         1.5          0.1         setosa   \n",
       "11  5.4          3.7         1.5          0.2         setosa   \n",
       "12  4.8          3.4         1.6          0.2         setosa   \n",
       "13  4.8          3.0         1.4          0.1         setosa   \n",
       "14  4.3          3.0         1.1          0.1         setosa   \n",
       "15  5.8          4.0         1.2          0.2         setosa   \n",
       "16  5.7          4.4         1.5          0.4         setosa   \n",
       "17  5.4          3.9         1.3          0.4         setosa   \n",
       "18  5.1          3.5         1.4          0.3         setosa   \n",
       "19  5.7          3.8         1.7          0.3         setosa   \n",
       "20  5.1          3.8         1.5          0.3         setosa   \n",
       "21  5.4          3.4         1.7          0.2         setosa   \n",
       "22  5.1          3.7         1.5          0.4         setosa   \n",
       "23  4.6          3.6         1.0          0.2         setosa   \n",
       "24  5.1          3.3         1.7          0.5         setosa   \n",
       "25  4.8          3.4         1.9          0.2         setosa   \n",
       "26  5.0          3.0         1.6          0.2         setosa   \n",
       "27  5.0          3.4         1.6          0.4         setosa   \n",
       "28  5.2          3.5         1.5          0.2         setosa   \n",
       "29  5.2          3.4         1.4          0.2         setosa   \n",
       "30  4.7          3.2         1.6          0.2         setosa   \n",
       "... ...          ...         ...          ...         ...      \n",
       "121 6.9          3.2         5.7          2.3         virginica\n",
       "122 5.6          2.8         4.9          2.0         virginica\n",
       "123 7.7          2.8         6.7          2.0         virginica\n",
       "124 6.3          2.7         4.9          1.8         virginica\n",
       "125 6.7          3.3         5.7          2.1         virginica\n",
       "126 7.2          3.2         6.0          1.8         virginica\n",
       "127 6.2          2.8         4.8          1.8         virginica\n",
       "128 6.1          3.0         4.9          1.8         virginica\n",
       "129 6.4          2.8         5.6          2.1         virginica\n",
       "130 7.2          3.0         5.8          1.6         virginica\n",
       "131 7.4          2.8         6.1          1.9         virginica\n",
       "132 7.9          3.8         6.4          2.0         virginica\n",
       "133 6.4          2.8         5.6          2.2         virginica\n",
       "134 6.3          2.8         5.1          1.5         virginica\n",
       "135 6.1          2.6         5.6          1.4         virginica\n",
       "136 7.7          3.0         6.1          2.3         virginica\n",
       "137 6.3          3.4         5.6          2.4         virginica\n",
       "138 6.4          3.1         5.5          1.8         virginica\n",
       "139 6.0          3.0         4.8          1.8         virginica\n",
       "140 6.9          3.1         5.4          2.1         virginica\n",
       "141 6.7          3.1         5.6          2.4         virginica\n",
       "142 6.9          3.1         5.1          2.3         virginica\n",
       "143 5.8          2.7         5.1          1.9         virginica\n",
       "144 6.8          3.2         5.9          2.3         virginica\n",
       "145 6.7          3.3         5.7          2.5         virginica\n",
       "146 6.7          3.0         5.2          2.3         virginica\n",
       "147 6.3          2.5         5.0          1.9         virginica\n",
       "148 6.5          3.0         5.2          2.0         virginica\n",
       "149 6.2          3.4         5.4          2.3         virginica\n",
       "150 5.9          3.0         5.1          1.8         virginica"
      ]
     },
     "metadata": {},
     "output_type": "display_data"
    }
   ],
   "source": [
    "library(dplyr)\n",
    "iris"
   ]
  },
  {
   "cell_type": "code",
   "execution_count": 2,
   "id": "e99e761a",
   "metadata": {},
   "outputs": [
    {
     "name": "stderr",
     "output_type": "stream",
     "text": [
      "Registered S3 methods overwritten by 'ggplot2':\n",
      "  method         from \n",
      "  [.quosures     rlang\n",
      "  c.quosures     rlang\n",
      "  print.quosures rlang\n"
     ]
    },
    {
     "data": {
      "image/png": "[encoded data removed]",
      "text/plain": [
       "plot without title"
      ]
     },
     "metadata": {},
     "output_type": "display_data"
    }
   ],
   "source": [
    "library(ggplot2)\n",
    "ggplot(data=iris, aes(x=Sepal.Length, y=Sepal.Width, color=Species)) + geom_point(size=3)\n"
   ]
  },
  {
   "cell_type": "code",
   "execution_count": 54,
   "id": "2c7d6d2c",
   "metadata": {},
   "outputs": [],
   "source": [
    "web_analytics <- read.csv(file = \"cleaneddata.csv\", header = TRUE, sep = \",\")"
   ]
  },
  {
   "cell_type": "code",
   "execution_count": 55,
   "id": "c05b5a12",
   "metadata": {},
   "outputs": [
    {
     "data": {
      "text/html": [
       "<table>\n",
       "<thead><tr><th scope=col>Source</th><th scope=col>Year</th><th scope=col>Month.of.the.year</th><th scope=col>Users</th><th scope=col>New.Users</th><th scope=col>Sessions</th><th scope=col>Bounce.Rate</th><th scope=col>Pageviews</th><th scope=col>Avg..Session.Duration</th><th scope=col>Conversion.Rate....</th><th scope=col>Transactions</th><th scope=col>Revenue</th><th scope=col>Quantity.Sold</th><th scope=col>Device</th></tr></thead>\n",
       "<tbody>\n",
       "\t<tr><td>google </td><td>2019   </td><td>11     </td><td>126870 </td><td>104020 </td><td>194667 </td><td>0.7159 </td><td>455159 </td><td>0:01:11</td><td>0.20   </td><td> 394   </td><td> 83244 </td><td> 482   </td><td>T      </td></tr>\n",
       "\t<tr><td>google </td><td>2020   </td><td> 5     </td><td>120625 </td><td> 98574 </td><td>194114 </td><td>0.6456 </td><td>559509 </td><td>0:01:32</td><td>0.69   </td><td>1347   </td><td>203552 </td><td>2402   </td><td>T      </td></tr>\n",
       "\t<tr><td>google </td><td>2019   </td><td>10     </td><td>123361 </td><td>104308 </td><td>181175 </td><td>0.4191 </td><td>368907 </td><td>0:01:05</td><td>0.26   </td><td> 477   </td><td> 94282 </td><td> 599   </td><td>T      </td></tr>\n",
       "\t<tr><td>google </td><td>2019   </td><td> 9     </td><td>106551 </td><td> 88428 </td><td>170329 </td><td>0.7592 </td><td>368803 </td><td>0:01:01</td><td>0.18   </td><td> 311   </td><td> 54971 </td><td> 415   </td><td>PC     </td></tr>\n",
       "\t<tr><td>google </td><td>2020   </td><td> 6     </td><td>102123 </td><td> 82461 </td><td>163446 </td><td>0.6710 </td><td>425410 </td><td>0:01:20</td><td>0.70   </td><td>1138   </td><td>167113 </td><td>1987   </td><td>PC     </td></tr>\n",
       "\t<tr><td>google </td><td>2019   </td><td>12     </td><td> 91043 </td><td> 70326 </td><td>142637 </td><td>0.6706 </td><td>370798 </td><td>0:01:20</td><td>0.34   </td><td> 486   </td><td>103001 </td><td> 607   </td><td>PC     </td></tr>\n",
       "\t<tr><td>google </td><td>2020   </td><td> 1     </td><td> 83031 </td><td> 64103 </td><td>133736 </td><td>0.6946 </td><td>373356 </td><td>0:01:23</td><td>0.45   </td><td> 601   </td><td>128552 </td><td> 777   </td><td>PC     </td></tr>\n",
       "\t<tr><td>google </td><td>2020   </td><td> 7     </td><td> 84343 </td><td> 73239 </td><td>125423 </td><td>0.7116 </td><td>292263 </td><td>0:01:12</td><td>0.58   </td><td> 730   </td><td> 98161 </td><td>1360   </td><td>PC     </td></tr>\n",
       "\t<tr><td>google </td><td>2020   </td><td> 2     </td><td> 82626 </td><td> 68145 </td><td>125318 </td><td>0.7006 </td><td>328822 </td><td>0:01:24</td><td>0.52   </td><td> 657   </td><td>126137 </td><td> 981   </td><td>M      </td></tr>\n",
       "\t<tr><td>google </td><td>2020   </td><td> 3     </td><td> 73844 </td><td> 61557 </td><td>110546 </td><td>0.7219 </td><td>266187 </td><td>0:01:15</td><td>0.48   </td><td> 531   </td><td> 96195 </td><td> 843   </td><td>M      </td></tr>\n",
       "\t<tr><td>google </td><td>2019   </td><td>12     </td><td> 88579 </td><td> 75361 </td><td>106966 </td><td>0.5620 </td><td>333480 </td><td>0:01:55</td><td>0.21   </td><td> 225   </td><td> 47724 </td><td> 317   </td><td>M      </td></tr>\n",
       "\t<tr><td>google </td><td>2020   </td><td> 4     </td><td> 73349 </td><td> 62794 </td><td>104146 </td><td>0.6712 </td><td>288195 </td><td>0:01:25</td><td>0.60   </td><td> 622   </td><td> 95367 </td><td>1150   </td><td>PC     </td></tr>\n",
       "\t<tr><td>Bing   </td><td>2020   </td><td> 5     </td><td> 68869 </td><td> 55769 </td><td> 99838 </td><td>0.5098 </td><td>325311 </td><td>0:01:38</td><td>0.47   </td><td> 471   </td><td> 58744 </td><td> 819   </td><td>PC     </td></tr>\n",
       "\t<tr><td>google </td><td>2020   </td><td> 1     </td><td> 82671 </td><td> 72520 </td><td> 99500 </td><td>0.6096 </td><td>299723 </td><td>0:01:48</td><td>0.25   </td><td> 253   </td><td> 55954 </td><td> 377   </td><td>PC     </td></tr>\n",
       "\t<tr><td>google </td><td>2019   </td><td>11     </td><td> 79783 </td><td> 65883 </td><td> 98400 </td><td>0.5517 </td><td>342257 </td><td>0:02:13</td><td>0.22   </td><td> 218   </td><td> 57597 </td><td> 343   </td><td>PC     </td></tr>\n",
       "\t<tr><td>yahoo  </td><td>2020   </td><td> 5     </td><td> 82246 </td><td> 81585 </td><td> 90447 </td><td>0.8613 </td><td>111745 </td><td>0:00:26</td><td>0.00   </td><td>   0   </td><td>     0 </td><td>   0   </td><td>T      </td></tr>\n",
       "\t<tr><td>google </td><td>2020   </td><td> 2     </td><td> 69129 </td><td> 58861 </td><td> 82905 </td><td>0.6134 </td><td>238736 </td><td>0:01:51</td><td>0.35   </td><td> 294   </td><td> 63161 </td><td> 500   </td><td>T      </td></tr>\n",
       "\t<tr><td>google </td><td>2019   </td><td>10     </td><td> 65953 </td><td> 55972 </td><td> 80301 </td><td>0.3672 </td><td>263957 </td><td>0:02:14</td><td>0.33   </td><td> 268   </td><td> 60862 </td><td> 419   </td><td>T      </td></tr>\n",
       "\t<tr><td>Bing   </td><td>2020   </td><td> 4     </td><td> 50516 </td><td> 43034 </td><td> 74190 </td><td>0.5075 </td><td>247484 </td><td>0:01:35</td><td>0.38   </td><td> 279   </td><td> 31663 </td><td> 489   </td><td>T      </td></tr>\n",
       "\t<tr><td>google </td><td>2020   </td><td> 5     </td><td> 55342 </td><td> 48064 </td><td> 66180 </td><td>0.5830 </td><td>213302 </td><td>0:02:07</td><td>0.52   </td><td> 341   </td><td> 54626 </td><td> 742   </td><td>T      </td></tr>\n",
       "\t<tr><td>Baidu  </td><td>2019   </td><td>10     </td><td> 33658 </td><td>  4533 </td><td> 62972 </td><td>0.3404 </td><td>164136 </td><td>0:01:46</td><td>0.25   </td><td> 156   </td><td> 30842 </td><td> 261   </td><td>T      </td></tr>\n",
       "\t<tr><td>google </td><td>2020   </td><td> 6     </td><td> 50645 </td><td> 44609 </td><td> 60789 </td><td>0.6044 </td><td>181511 </td><td>0:01:58</td><td>0.53   </td><td> 322   </td><td> 47867 </td><td> 678   </td><td>T      </td></tr>\n",
       "\t<tr><td>google </td><td>2020   </td><td> 3     </td><td> 48288 </td><td> 41139 </td><td> 58580 </td><td>0.6119 </td><td>174115 </td><td>0:02:00</td><td>0.31   </td><td> 183   </td><td> 32795 </td><td> 325   </td><td>PC     </td></tr>\n",
       "\t<tr><td>google </td><td>2020   </td><td> 8     </td><td> 42747 </td><td> 35935 </td><td> 56931 </td><td>0.6481 </td><td>149505 </td><td>0:01:29</td><td>0.48   </td><td> 272   </td><td> 43561 </td><td> 530   </td><td>PC     </td></tr>\n",
       "\t<tr><td>Baidu  </td><td>2019   </td><td>11     </td><td> 31370 </td><td>  3721 </td><td> 55292 </td><td>0.6209 </td><td>143387 </td><td>0:01:42</td><td>0.16   </td><td>  88   </td><td> 18327 </td><td> 144   </td><td>PC     </td></tr>\n",
       "\t<tr><td>Bing   </td><td>2020   </td><td> 6     </td><td> 36191 </td><td> 27156 </td><td> 51894 </td><td>0.4967 </td><td>167903 </td><td>0:01:37</td><td>0.70   </td><td> 364   </td><td> 42734 </td><td> 635   </td><td>PC     </td></tr>\n",
       "\t<tr><td>google </td><td>2020   </td><td> 7     </td><td> 43010 </td><td> 38395 </td><td> 50567 </td><td>0.6229 </td><td>140013 </td><td>0:01:54</td><td>0.38   </td><td> 190   </td><td> 27580 </td><td> 341   </td><td>PC     </td></tr>\n",
       "\t<tr><td>google </td><td>2020   </td><td> 8     </td><td> 42815 </td><td> 38735 </td><td> 50550 </td><td>0.6345 </td><td>135664 </td><td>0:01:48</td><td>0.40   </td><td> 204   </td><td> 31686 </td><td> 374   </td><td>PC     </td></tr>\n",
       "\t<tr><td>google </td><td>2019   </td><td> 9     </td><td> 40697 </td><td> 34012 </td><td> 48854 </td><td>0.5557 </td><td>178347 </td><td>0:02:16</td><td>0.24   </td><td> 117   </td><td> 24924 </td><td> 228   </td><td>PC     </td></tr>\n",
       "\t<tr><td>AOL    </td><td>2020   </td><td> 7     </td><td> 42982 </td><td> 42730 </td><td> 45898 </td><td>0.8625 </td><td> 78133 </td><td>0:00:34</td><td>0.15   </td><td>  67   </td><td>  9358 </td><td> 112   </td><td>PC     </td></tr>\n",
       "\t<tr><td>...</td><td>...</td><td>...</td><td>...</td><td>...</td><td>...</td><td>...</td><td>...</td><td>...</td><td>...</td><td>...</td><td>...</td><td>...</td><td>...</td></tr>\n",
       "\t<tr><td>ASK.COM</td><td>2019   </td><td>11     </td><td>158    </td><td>132    </td><td>198    </td><td>0.3384 </td><td>1388   </td><td>0:03:55</td><td> 0.00  </td><td> 0     </td><td>   0   </td><td> 0     </td><td>PC     </td></tr>\n",
       "\t<tr><td>Bing   </td><td>2020   </td><td> 7     </td><td>108    </td><td> 47    </td><td>193    </td><td>0.3679 </td><td>1007   </td><td>0:04:02</td><td> 6.74  </td><td>13     </td><td>2081   </td><td>39     </td><td>PC     </td></tr>\n",
       "\t<tr><td>AOL    </td><td>2020   </td><td> 1     </td><td>140    </td><td>127    </td><td>192    </td><td>0.5052 </td><td> 893   </td><td>0:02:52</td><td> 0.52  </td><td> 1     </td><td> 195   </td><td> 1     </td><td>M      </td></tr>\n",
       "\t<tr><td>baidu  </td><td>2019   </td><td>11     </td><td>116    </td><td> 13    </td><td>191    </td><td>0.2618 </td><td>1277   </td><td>0:05:20</td><td> 3.66  </td><td> 7     </td><td>1995   </td><td>15     </td><td>M      </td></tr>\n",
       "\t<tr><td>baidu  </td><td>2020   </td><td> 4     </td><td> 54    </td><td>  4    </td><td>191    </td><td>0.7592 </td><td> 287   </td><td>0:01:27</td><td> 0.00  </td><td> 0     </td><td>   0   </td><td> 0     </td><td>M      </td></tr>\n",
       "\t<tr><td>AOL    </td><td>2019   </td><td>10     </td><td>162    </td><td>144    </td><td>190    </td><td>0.4158 </td><td> 720   </td><td>0:01:55</td><td> 0.00  </td><td> 0     </td><td>   0   </td><td> 0     </td><td>M      </td></tr>\n",
       "\t<tr><td>baidu  </td><td>2020   </td><td> 1     </td><td>102    </td><td> 16    </td><td>186    </td><td>0.3925 </td><td> 983   </td><td>0:03:36</td><td> 7.53  </td><td>14     </td><td>3796   </td><td>23     </td><td>M      </td></tr>\n",
       "\t<tr><td>AOL    </td><td>2019   </td><td> 9     </td><td>164    </td><td>153    </td><td>180    </td><td>0.5778 </td><td> 879   </td><td>0:02:59</td><td> 0.00  </td><td> 0     </td><td>   0   </td><td> 0     </td><td>M      </td></tr>\n",
       "\t<tr><td>google </td><td>2020   </td><td> 6     </td><td>132    </td><td>115    </td><td>178    </td><td>0.6067 </td><td> 511   </td><td>0:02:22</td><td> 0.56  </td><td> 1     </td><td>  81   </td><td> 1     </td><td>M      </td></tr>\n",
       "\t<tr><td>google </td><td>2020   </td><td> 3     </td><td>138    </td><td>116    </td><td>173    </td><td>0.6185 </td><td> 764   </td><td>0:03:00</td><td> 0.00  </td><td> 0     </td><td>   0   </td><td> 0     </td><td>PC     </td></tr>\n",
       "\t<tr><td>baidu  </td><td>2019   </td><td> 9     </td><td> 86    </td><td>  1    </td><td>169    </td><td>0.7692 </td><td> 275   </td><td>0:01:01</td><td> 0.00  </td><td> 0     </td><td>   0   </td><td> 0     </td><td>PC     </td></tr>\n",
       "\t<tr><td>ASK.COM</td><td>2019   </td><td>10     </td><td>132    </td><td>103    </td><td>169    </td><td>0.3254 </td><td> 992   </td><td>0:03:51</td><td> 1.18  </td><td> 2     </td><td>1558   </td><td>22     </td><td>PC     </td></tr>\n",
       "\t<tr><td>Bing   </td><td>2019   </td><td>11     </td><td>150    </td><td> 41    </td><td>168    </td><td>0.3095 </td><td>1188   </td><td>0:04:42</td><td> 0.00  </td><td> 0     </td><td>   0   </td><td> 0     </td><td>PC     </td></tr>\n",
       "\t<tr><td>AOL    </td><td>2020   </td><td> 2     </td><td>127    </td><td>107    </td><td>156    </td><td>0.4744 </td><td> 737   </td><td>0:03:37</td><td> 1.92  </td><td> 3     </td><td> 460   </td><td>11     </td><td>PC     </td></tr>\n",
       "\t<tr><td>google </td><td>2019   </td><td>11     </td><td> 41    </td><td>  1    </td><td>152    </td><td>0.6776 </td><td> 241   </td><td>0:01:49</td><td> 0.00  </td><td> 0     </td><td>   0   </td><td> 0     </td><td>PC     </td></tr>\n",
       "\t<tr><td>Baidu  </td><td>2020   </td><td> 7     </td><td> 73    </td><td> 18    </td><td>149    </td><td>0.6040 </td><td> 400   </td><td>0:01:51</td><td> 0.67  </td><td> 1     </td><td> 160   </td><td> 1     </td><td>PC     </td></tr>\n",
       "\t<tr><td>google </td><td>2020   </td><td> 1     </td><td>123    </td><td> 71    </td><td>147    </td><td>0.7075 </td><td> 335   </td><td>0:00:55</td><td> 0.00  </td><td> 0     </td><td>   0   </td><td> 0     </td><td>PC     </td></tr>\n",
       "\t<tr><td>baidu  </td><td>2020   </td><td> 2     </td><td> 87    </td><td> 16    </td><td>146    </td><td>0.3151 </td><td>1013   </td><td>0:04:57</td><td> 8.90  </td><td>13     </td><td>2590   </td><td>21     </td><td>PC     </td></tr>\n",
       "\t<tr><td>AOL    </td><td>2020   </td><td> 5     </td><td>120    </td><td>106    </td><td>140    </td><td>0.3643 </td><td> 696   </td><td>0:03:54</td><td> 0.71  </td><td> 1     </td><td>  47   </td><td> 1     </td><td>PC     </td></tr>\n",
       "\t<tr><td>AOL    </td><td>2020   </td><td> 6     </td><td>119    </td><td>104    </td><td>139    </td><td>0.4245 </td><td> 613   </td><td>0:03:07</td><td> 0.00  </td><td> 0     </td><td>   0   </td><td> 0     </td><td>K      </td></tr>\n",
       "\t<tr><td>google </td><td>2020   </td><td> 4     </td><td>123    </td><td> 76    </td><td>137    </td><td>0.4234 </td><td> 484   </td><td>0:01:56</td><td> 0.00  </td><td> 0     </td><td>   0   </td><td> 0     </td><td>K      </td></tr>\n",
       "\t<tr><td>baidu  </td><td>2019   </td><td> 9     </td><td> 90    </td><td> 83    </td><td>137    </td><td>0.0000 </td><td> 465   </td><td>0:03:43</td><td>18.98  </td><td>26     </td><td>5908   </td><td>42     </td><td>K      </td></tr>\n",
       "\t<tr><td>google </td><td>2020   </td><td> 5     </td><td>119    </td><td>112    </td><td>135    </td><td>0.2667 </td><td> 546   </td><td>0:03:40</td><td> 0.00  </td><td> 0     </td><td>   0   </td><td> 0     </td><td>PC     </td></tr>\n",
       "\t<tr><td>ASK.COM</td><td>2020   </td><td> 1     </td><td> 94    </td><td> 71    </td><td>135    </td><td>0.2889 </td><td>1226   </td><td>0:06:49</td><td> 2.96  </td><td> 4     </td><td>2111   </td><td> 5     </td><td>PC     </td></tr>\n",
       "\t<tr><td>baidu  </td><td>2019   </td><td> 9     </td><td> 77    </td><td>  3    </td><td>133    </td><td>0.3083 </td><td> 970   </td><td>0:05:35</td><td> 6.02  </td><td> 8     </td><td>1506   </td><td>14     </td><td>PC     </td></tr>\n",
       "\t<tr><td>ASK.COM</td><td>2020   </td><td> 5     </td><td>109    </td><td> 91    </td><td>132    </td><td>0.3333 </td><td> 840   </td><td>0:04:39</td><td> 0.76  </td><td> 1     </td><td> 130   </td><td> 1     </td><td>PC     </td></tr>\n",
       "\t<tr><td>google </td><td>2020   </td><td> 5     </td><td>111    </td><td> 97    </td><td>131    </td><td>0.6107 </td><td> 324   </td><td>0:01:26</td><td> 0.00  </td><td> 0     </td><td>   0   </td><td> 0     </td><td>PC     </td></tr>\n",
       "\t<tr><td>google </td><td>2020   </td><td> 2     </td><td>112    </td><td> 81    </td><td>130    </td><td>0.6846 </td><td> 297   </td><td>0:01:20</td><td> 0.00  </td><td> 0     </td><td>   0   </td><td> 0     </td><td>PC     </td></tr>\n",
       "\t<tr><td>ASK.COM</td><td>2019   </td><td>12     </td><td>117    </td><td> 90    </td><td>129    </td><td>0.2946 </td><td>1000   </td><td>0:05:36</td><td> 0.78  </td><td> 1     </td><td>  81   </td><td> 1     </td><td>PC     </td></tr>\n",
       "\t<tr><td>google </td><td>2020   </td><td> 3     </td><td>111    </td><td> 70    </td><td>127    </td><td>0.6220 </td><td> 397   </td><td>0:01:27</td><td> 0.79  </td><td> 1     </td><td>  77   </td><td> 1     </td><td>PC     </td></tr>\n",
       "</tbody>\n",
       "</table>\n"
      ],
      "text/latex": [
       "\\begin{tabular}{r|llllllllllllll}\n",
       " Source & Year & Month.of.the.year & Users & New.Users & Sessions & Bounce.Rate & Pageviews & Avg..Session.Duration & Conversion.Rate.... & Transactions & Revenue & Quantity.Sold & Device\\\\\n",
       "\\hline\n",
       "\t google  & 2019    & 11      & 126870  & 104020  & 194667  & 0.7159  & 455159  & 0:01:11 & 0.20    &  394    &  83244  &  482    & T      \\\\\n",
       "\t google  & 2020    &  5      & 120625  &  98574  & 194114  & 0.6456  & 559509  & 0:01:32 & 0.69    & 1347    & 203552  & 2402    & T      \\\\\n",
       "\t google  & 2019    & 10      & 123361  & 104308  & 181175  & 0.4191  & 368907  & 0:01:05 & 0.26    &  477    &  94282  &  599    & T      \\\\\n",
       "\t google  & 2019    &  9      & 106551  &  88428  & 170329  & 0.7592  & 368803  & 0:01:01 & 0.18    &  311    &  54971  &  415    & PC     \\\\\n",
       "\t google  & 2020    &  6      & 102123  &  82461  & 163446  & 0.6710  & 425410  & 0:01:20 & 0.70    & 1138    & 167113  & 1987    & PC     \\\\\n",
       "\t google  & 2019    & 12      &  91043  &  70326  & 142637  & 0.6706  & 370798  & 0:01:20 & 0.34    &  486    & 103001  &  607    & PC     \\\\\n",
       "\t google  & 2020    &  1      &  83031  &  64103  & 133736  & 0.6946  & 373356  & 0:01:23 & 0.45    &  601    & 128552  &  777    & PC     \\\\\n",
       "\t google  & 2020    &  7      &  84343  &  73239  & 125423  & 0.7116  & 292263  & 0:01:12 & 0.58    &  730    &  98161  & 1360    & PC     \\\\\n",
       "\t google  & 2020    &  2      &  82626  &  68145  & 125318  & 0.7006  & 328822  & 0:01:24 & 0.52    &  657    & 126137  &  981    & M      \\\\\n",
       "\t google  & 2020    &  3      &  73844  &  61557  & 110546  & 0.7219  & 266187  & 0:01:15 & 0.48    &  531    &  96195  &  843    & M      \\\\\n",
       "\t google  & 2019    & 12      &  88579  &  75361  & 106966  & 0.5620  & 333480  & 0:01:55 & 0.21    &  225    &  47724  &  317    & M      \\\\\n",
       "\t google  & 2020    &  4      &  73349  &  62794  & 104146  & 0.6712  & 288195  & 0:01:25 & 0.60    &  622    &  95367  & 1150    & PC     \\\\\n",
       "\t Bing    & 2020    &  5      &  68869  &  55769  &  99838  & 0.5098  & 325311  & 0:01:38 & 0.47    &  471    &  58744  &  819    & PC     \\\\\n",
       "\t google  & 2020    &  1      &  82671  &  72520  &  99500  & 0.6096  & 299723  & 0:01:48 & 0.25    &  253    &  55954  &  377    & PC     \\\\\n",
       "\t google  & 2019    & 11      &  79783  &  65883  &  98400  & 0.5517  & 342257  & 0:02:13 & 0.22    &  218    &  57597  &  343    & PC     \\\\\n",
       "\t yahoo   & 2020    &  5      &  82246  &  81585  &  90447  & 0.8613  & 111745  & 0:00:26 & 0.00    &    0    &      0  &    0    & T      \\\\\n",
       "\t google  & 2020    &  2      &  69129  &  58861  &  82905  & 0.6134  & 238736  & 0:01:51 & 0.35    &  294    &  63161  &  500    & T      \\\\\n",
       "\t google  & 2019    & 10      &  65953  &  55972  &  80301  & 0.3672  & 263957  & 0:02:14 & 0.33    &  268    &  60862  &  419    & T      \\\\\n",
       "\t Bing    & 2020    &  4      &  50516  &  43034  &  74190  & 0.5075  & 247484  & 0:01:35 & 0.38    &  279    &  31663  &  489    & T      \\\\\n",
       "\t google  & 2020    &  5      &  55342  &  48064  &  66180  & 0.5830  & 213302  & 0:02:07 & 0.52    &  341    &  54626  &  742    & T      \\\\\n",
       "\t Baidu   & 2019    & 10      &  33658  &   4533  &  62972  & 0.3404  & 164136  & 0:01:46 & 0.25    &  156    &  30842  &  261    & T      \\\\\n",
       "\t google  & 2020    &  6      &  50645  &  44609  &  60789  & 0.6044  & 181511  & 0:01:58 & 0.53    &  322    &  47867  &  678    & T      \\\\\n",
       "\t google  & 2020    &  3      &  48288  &  41139  &  58580  & 0.6119  & 174115  & 0:02:00 & 0.31    &  183    &  32795  &  325    & PC     \\\\\n",
       "\t google  & 2020    &  8      &  42747  &  35935  &  56931  & 0.6481  & 149505  & 0:01:29 & 0.48    &  272    &  43561  &  530    & PC     \\\\\n",
       "\t Baidu   & 2019    & 11      &  31370  &   3721  &  55292  & 0.6209  & 143387  & 0:01:42 & 0.16    &   88    &  18327  &  144    & PC     \\\\\n",
       "\t Bing    & 2020    &  6      &  36191  &  27156  &  51894  & 0.4967  & 167903  & 0:01:37 & 0.70    &  364    &  42734  &  635    & PC     \\\\\n",
       "\t google  & 2020    &  7      &  43010  &  38395  &  50567  & 0.6229  & 140013  & 0:01:54 & 0.38    &  190    &  27580  &  341    & PC     \\\\\n",
       "\t google  & 2020    &  8      &  42815  &  38735  &  50550  & 0.6345  & 135664  & 0:01:48 & 0.40    &  204    &  31686  &  374    & PC     \\\\\n",
       "\t google  & 2019    &  9      &  40697  &  34012  &  48854  & 0.5557  & 178347  & 0:02:16 & 0.24    &  117    &  24924  &  228    & PC     \\\\\n",
       "\t AOL     & 2020    &  7      &  42982  &  42730  &  45898  & 0.8625  &  78133  & 0:00:34 & 0.15    &   67    &   9358  &  112    & PC     \\\\\n",
       "\t ... & ... & ... & ... & ... & ... & ... & ... & ... & ... & ... & ... & ... & ...\\\\\n",
       "\t ASK.COM & 2019    & 11      & 158     & 132     & 198     & 0.3384  & 1388    & 0:03:55 &  0.00   &  0      &    0    &  0      & PC     \\\\\n",
       "\t Bing    & 2020    &  7      & 108     &  47     & 193     & 0.3679  & 1007    & 0:04:02 &  6.74   & 13      & 2081    & 39      & PC     \\\\\n",
       "\t AOL     & 2020    &  1      & 140     & 127     & 192     & 0.5052  &  893    & 0:02:52 &  0.52   &  1      &  195    &  1      & M      \\\\\n",
       "\t baidu   & 2019    & 11      & 116     &  13     & 191     & 0.2618  & 1277    & 0:05:20 &  3.66   &  7      & 1995    & 15      & M      \\\\\n",
       "\t baidu   & 2020    &  4      &  54     &   4     & 191     & 0.7592  &  287    & 0:01:27 &  0.00   &  0      &    0    &  0      & M      \\\\\n",
       "\t AOL     & 2019    & 10      & 162     & 144     & 190     & 0.4158  &  720    & 0:01:55 &  0.00   &  0      &    0    &  0      & M      \\\\\n",
       "\t baidu   & 2020    &  1      & 102     &  16     & 186     & 0.3925  &  983    & 0:03:36 &  7.53   & 14      & 3796    & 23      & M      \\\\\n",
       "\t AOL     & 2019    &  9      & 164     & 153     & 180     & 0.5778  &  879    & 0:02:59 &  0.00   &  0      &    0    &  0      & M      \\\\\n",
       "\t google  & 2020    &  6      & 132     & 115     & 178     & 0.6067  &  511    & 0:02:22 &  0.56   &  1      &   81    &  1      & M      \\\\\n",
       "\t google  & 2020    &  3      & 138     & 116     & 173     & 0.6185  &  764    & 0:03:00 &  0.00   &  0      &    0    &  0      & PC     \\\\\n",
       "\t baidu   & 2019    &  9      &  86     &   1     & 169     & 0.7692  &  275    & 0:01:01 &  0.00   &  0      &    0    &  0      & PC     \\\\\n",
       "\t ASK.COM & 2019    & 10      & 132     & 103     & 169     & 0.3254  &  992    & 0:03:51 &  1.18   &  2      & 1558    & 22      & PC     \\\\\n",
       "\t Bing    & 2019    & 11      & 150     &  41     & 168     & 0.3095  & 1188    & 0:04:42 &  0.00   &  0      &    0    &  0      & PC     \\\\\n",
       "\t AOL     & 2020    &  2      & 127     & 107     & 156     & 0.4744  &  737    & 0:03:37 &  1.92   &  3      &  460    & 11      & PC     \\\\\n",
       "\t google  & 2019    & 11      &  41     &   1     & 152     & 0.6776  &  241    & 0:01:49 &  0.00   &  0      &    0    &  0      & PC     \\\\\n",
       "\t Baidu   & 2020    &  7      &  73     &  18     & 149     & 0.6040  &  400    & 0:01:51 &  0.67   &  1      &  160    &  1      & PC     \\\\\n",
       "\t google  & 2020    &  1      & 123     &  71     & 147     & 0.7075  &  335    & 0:00:55 &  0.00   &  0      &    0    &  0      & PC     \\\\\n",
       "\t baidu   & 2020    &  2      &  87     &  16     & 146     & 0.3151  & 1013    & 0:04:57 &  8.90   & 13      & 2590    & 21      & PC     \\\\\n",
       "\t AOL     & 2020    &  5      & 120     & 106     & 140     & 0.3643  &  696    & 0:03:54 &  0.71   &  1      &   47    &  1      & PC     \\\\\n",
       "\t AOL     & 2020    &  6      & 119     & 104     & 139     & 0.4245  &  613    & 0:03:07 &  0.00   &  0      &    0    &  0      & K      \\\\\n",
       "\t google  & 2020    &  4      & 123     &  76     & 137     & 0.4234  &  484    & 0:01:56 &  0.00   &  0      &    0    &  0      & K      \\\\\n",
       "\t baidu   & 2019    &  9      &  90     &  83     & 137     & 0.0000  &  465    & 0:03:43 & 18.98   & 26      & 5908    & 42      & K      \\\\\n",
       "\t google  & 2020    &  5      & 119     & 112     & 135     & 0.2667  &  546    & 0:03:40 &  0.00   &  0      &    0    &  0      & PC     \\\\\n",
       "\t ASK.COM & 2020    &  1      &  94     &  71     & 135     & 0.2889  & 1226    & 0:06:49 &  2.96   &  4      & 2111    &  5      & PC     \\\\\n",
       "\t baidu   & 2019    &  9      &  77     &   3     & 133     & 0.3083  &  970    & 0:05:35 &  6.02   &  8      & 1506    & 14      & PC     \\\\\n",
       "\t ASK.COM & 2020    &  5      & 109     &  91     & 132     & 0.3333  &  840    & 0:04:39 &  0.76   &  1      &  130    &  1      & PC     \\\\\n",
       "\t google  & 2020    &  5      & 111     &  97     & 131     & 0.6107  &  324    & 0:01:26 &  0.00   &  0      &    0    &  0      & PC     \\\\\n",
       "\t google  & 2020    &  2      & 112     &  81     & 130     & 0.6846  &  297    & 0:01:20 &  0.00   &  0      &    0    &  0      & PC     \\\\\n",
       "\t ASK.COM & 2019    & 12      & 117     &  90     & 129     & 0.2946  & 1000    & 0:05:36 &  0.78   &  1      &   81    &  1      & PC     \\\\\n",
       "\t google  & 2020    &  3      & 111     &  70     & 127     & 0.6220  &  397    & 0:01:27 &  0.79   &  1      &   77    &  1      & PC     \\\\\n",
       "\\end{tabular}\n"
      ],
      "text/markdown": [
       "\n",
       "| Source | Year | Month.of.the.year | Users | New.Users | Sessions | Bounce.Rate | Pageviews | Avg..Session.Duration | Conversion.Rate.... | Transactions | Revenue | Quantity.Sold | Device |\n",
       "|---|---|---|---|---|---|---|---|---|---|---|---|---|---|\n",
       "| google  | 2019    | 11      | 126870  | 104020  | 194667  | 0.7159  | 455159  | 0:01:11 | 0.20    |  394    |  83244  |  482    | T       |\n",
       "| google  | 2020    |  5      | 120625  |  98574  | 194114  | 0.6456  | 559509  | 0:01:32 | 0.69    | 1347    | 203552  | 2402    | T       |\n",
       "| google  | 2019    | 10      | 123361  | 104308  | 181175  | 0.4191  | 368907  | 0:01:05 | 0.26    |  477    |  94282  |  599    | T       |\n",
       "| google  | 2019    |  9      | 106551  |  88428  | 170329  | 0.7592  | 368803  | 0:01:01 | 0.18    |  311    |  54971  |  415    | PC      |\n",
       "| google  | 2020    |  6      | 102123  |  82461  | 163446  | 0.6710  | 425410  | 0:01:20 | 0.70    | 1138    | 167113  | 1987    | PC      |\n",
       "| google  | 2019    | 12      |  91043  |  70326  | 142637  | 0.6706  | 370798  | 0:01:20 | 0.34    |  486    | 103001  |  607    | PC      |\n",
       "| google  | 2020    |  1      |  83031  |  64103  | 133736  | 0.6946  | 373356  | 0:01:23 | 0.45    |  601    | 128552  |  777    | PC      |\n",
       "| google  | 2020    |  7      |  84343  |  73239  | 125423  | 0.7116  | 292263  | 0:01:12 | 0.58    |  730    |  98161  | 1360    | PC      |\n",
       "| google  | 2020    |  2      |  82626  |  68145  | 125318  | 0.7006  | 328822  | 0:01:24 | 0.52    |  657    | 126137  |  981    | M       |\n",
       "| google  | 2020    |  3      |  73844  |  61557  | 110546  | 0.7219  | 266187  | 0:01:15 | 0.48    |  531    |  96195  |  843    | M       |\n",
       "| google  | 2019    | 12      |  88579  |  75361  | 106966  | 0.5620  | 333480  | 0:01:55 | 0.21    |  225    |  47724  |  317    | M       |\n",
       "| google  | 2020    |  4      |  73349  |  62794  | 104146  | 0.6712  | 288195  | 0:01:25 | 0.60    |  622    |  95367  | 1150    | PC      |\n",
       "| Bing    | 2020    |  5      |  68869  |  55769  |  99838  | 0.5098  | 325311  | 0:01:38 | 0.47    |  471    |  58744  |  819    | PC      |\n",
       "| google  | 2020    |  1      |  82671  |  72520  |  99500  | 0.6096  | 299723  | 0:01:48 | 0.25    |  253    |  55954  |  377    | PC      |\n",
       "| google  | 2019    | 11      |  79783  |  65883  |  98400  | 0.5517  | 342257  | 0:02:13 | 0.22    |  218    |  57597  |  343    | PC      |\n",
       "| yahoo   | 2020    |  5      |  82246  |  81585  |  90447  | 0.8613  | 111745  | 0:00:26 | 0.00    |    0    |      0  |    0    | T       |\n",
       "| google  | 2020    |  2      |  69129  |  58861  |  82905  | 0.6134  | 238736  | 0:01:51 | 0.35    |  294    |  63161  |  500    | T       |\n",
       "| google  | 2019    | 10      |  65953  |  55972  |  80301  | 0.3672  | 263957  | 0:02:14 | 0.33    |  268    |  60862  |  419    | T       |\n",
       "| Bing    | 2020    |  4      |  50516  |  43034  |  74190  | 0.5075  | 247484  | 0:01:35 | 0.38    |  279    |  31663  |  489    | T       |\n",
       "| google  | 2020    |  5      |  55342  |  48064  |  66180  | 0.5830  | 213302  | 0:02:07 | 0.52    |  341    |  54626  |  742    | T       |\n",
       "| Baidu   | 2019    | 10      |  33658  |   4533  |  62972  | 0.3404  | 164136  | 0:01:46 | 0.25    |  156    |  30842  |  261    | T       |\n",
       "| google  | 2020    |  6      |  50645  |  44609  |  60789  | 0.6044  | 181511  | 0:01:58 | 0.53    |  322    |  47867  |  678    | T       |\n",
       "| google  | 2020    |  3      |  48288  |  41139  |  58580  | 0.6119  | 174115  | 0:02:00 | 0.31    |  183    |  32795  |  325    | PC      |\n",
       "| google  | 2020    |  8      |  42747  |  35935  |  56931  | 0.6481  | 149505  | 0:01:29 | 0.48    |  272    |  43561  |  530    | PC      |\n",
       "| Baidu   | 2019    | 11      |  31370  |   3721  |  55292  | 0.6209  | 143387  | 0:01:42 | 0.16    |   88    |  18327  |  144    | PC      |\n",
       "| Bing    | 2020    |  6      |  36191  |  27156  |  51894  | 0.4967  | 167903  | 0:01:37 | 0.70    |  364    |  42734  |  635    | PC      |\n",
       "| google  | 2020    |  7      |  43010  |  38395  |  50567  | 0.6229  | 140013  | 0:01:54 | 0.38    |  190    |  27580  |  341    | PC      |\n",
       "| google  | 2020    |  8      |  42815  |  38735  |  50550  | 0.6345  | 135664  | 0:01:48 | 0.40    |  204    |  31686  |  374    | PC      |\n",
       "| google  | 2019    |  9      |  40697  |  34012  |  48854  | 0.5557  | 178347  | 0:02:16 | 0.24    |  117    |  24924  |  228    | PC      |\n",
       "| AOL     | 2020    |  7      |  42982  |  42730  |  45898  | 0.8625  |  78133  | 0:00:34 | 0.15    |   67    |   9358  |  112    | PC      |\n",
       "| ... | ... | ... | ... | ... | ... | ... | ... | ... | ... | ... | ... | ... | ... |\n",
       "| ASK.COM | 2019    | 11      | 158     | 132     | 198     | 0.3384  | 1388    | 0:03:55 |  0.00   |  0      |    0    |  0      | PC      |\n",
       "| Bing    | 2020    |  7      | 108     |  47     | 193     | 0.3679  | 1007    | 0:04:02 |  6.74   | 13      | 2081    | 39      | PC      |\n",
       "| AOL     | 2020    |  1      | 140     | 127     | 192     | 0.5052  |  893    | 0:02:52 |  0.52   |  1      |  195    |  1      | M       |\n",
       "| baidu   | 2019    | 11      | 116     |  13     | 191     | 0.2618  | 1277    | 0:05:20 |  3.66   |  7      | 1995    | 15      | M       |\n",
       "| baidu   | 2020    |  4      |  54     |   4     | 191     | 0.7592  |  287    | 0:01:27 |  0.00   |  0      |    0    |  0      | M       |\n",
       "| AOL     | 2019    | 10      | 162     | 144     | 190     | 0.4158  |  720    | 0:01:55 |  0.00   |  0      |    0    |  0      | M       |\n",
       "| baidu   | 2020    |  1      | 102     |  16     | 186     | 0.3925  |  983    | 0:03:36 |  7.53   | 14      | 3796    | 23      | M       |\n",
       "| AOL     | 2019    |  9      | 164     | 153     | 180     | 0.5778  |  879    | 0:02:59 |  0.00   |  0      |    0    |  0      | M       |\n",
       "| google  | 2020    |  6      | 132     | 115     | 178     | 0.6067  |  511    | 0:02:22 |  0.56   |  1      |   81    |  1      | M       |\n",
       "| google  | 2020    |  3      | 138     | 116     | 173     | 0.6185  |  764    | 0:03:00 |  0.00   |  0      |    0    |  0      | PC      |\n",
       "| baidu   | 2019    |  9      |  86     |   1     | 169     | 0.7692  |  275    | 0:01:01 |  0.00   |  0      |    0    |  0      | PC      |\n",
       "| ASK.COM | 2019    | 10      | 132     | 103     | 169     | 0.3254  |  992    | 0:03:51 |  1.18   |  2      | 1558    | 22      | PC      |\n",
       "| Bing    | 2019    | 11      | 150     |  41     | 168     | 0.3095  | 1188    | 0:04:42 |  0.00   |  0      |    0    |  0      | PC      |\n",
       "| AOL     | 2020    |  2      | 127     | 107     | 156     | 0.4744  |  737    | 0:03:37 |  1.92   |  3      |  460    | 11      | PC      |\n",
       "| google  | 2019    | 11      |  41     |   1     | 152     | 0.6776  |  241    | 0:01:49 |  0.00   |  0      |    0    |  0      | PC      |\n",
       "| Baidu   | 2020    |  7      |  73     |  18     | 149     | 0.6040  |  400    | 0:01:51 |  0.67   |  1      |  160    |  1      | PC      |\n",
       "| google  | 2020    |  1      | 123     |  71     | 147     | 0.7075  |  335    | 0:00:55 |  0.00   |  0      |    0    |  0      | PC      |\n",
       "| baidu   | 2020    |  2      |  87     |  16     | 146     | 0.3151  | 1013    | 0:04:57 |  8.90   | 13      | 2590    | 21      | PC      |\n",
       "| AOL     | 2020    |  5      | 120     | 106     | 140     | 0.3643  |  696    | 0:03:54 |  0.71   |  1      |   47    |  1      | PC      |\n",
       "| AOL     | 2020    |  6      | 119     | 104     | 139     | 0.4245  |  613    | 0:03:07 |  0.00   |  0      |    0    |  0      | K       |\n",
       "| google  | 2020    |  4      | 123     |  76     | 137     | 0.4234  |  484    | 0:01:56 |  0.00   |  0      |    0    |  0      | K       |\n",
       "| baidu   | 2019    |  9      |  90     |  83     | 137     | 0.0000  |  465    | 0:03:43 | 18.98   | 26      | 5908    | 42      | K       |\n",
       "| google  | 2020    |  5      | 119     | 112     | 135     | 0.2667  |  546    | 0:03:40 |  0.00   |  0      |    0    |  0      | PC      |\n",
       "| ASK.COM | 2020    |  1      |  94     |  71     | 135     | 0.2889  | 1226    | 0:06:49 |  2.96   |  4      | 2111    |  5      | PC      |\n",
       "| baidu   | 2019    |  9      |  77     |   3     | 133     | 0.3083  |  970    | 0:05:35 |  6.02   |  8      | 1506    | 14      | PC      |\n",
       "| ASK.COM | 2020    |  5      | 109     |  91     | 132     | 0.3333  |  840    | 0:04:39 |  0.76   |  1      |  130    |  1      | PC      |\n",
       "| google  | 2020    |  5      | 111     |  97     | 131     | 0.6107  |  324    | 0:01:26 |  0.00   |  0      |    0    |  0      | PC      |\n",
       "| google  | 2020    |  2      | 112     |  81     | 130     | 0.6846  |  297    | 0:01:20 |  0.00   |  0      |    0    |  0      | PC      |\n",
       "| ASK.COM | 2019    | 12      | 117     |  90     | 129     | 0.2946  | 1000    | 0:05:36 |  0.78   |  1      |   81    |  1      | PC      |\n",
       "| google  | 2020    |  3      | 111     |  70     | 127     | 0.6220  |  397    | 0:01:27 |  0.79   |  1      |   77    |  1      | PC      |\n",
       "\n"
      ],
      "text/plain": [
       "    Source  Year Month.of.the.year Users  New.Users Sessions Bounce.Rate\n",
       "1   google  2019 11                126870 104020    194667   0.7159     \n",
       "2   google  2020  5                120625  98574    194114   0.6456     \n",
       "3   google  2019 10                123361 104308    181175   0.4191     \n",
       "4   google  2019  9                106551  88428    170329   0.7592     \n",
       "5   google  2020  6                102123  82461    163446   0.6710     \n",
       "6   google  2019 12                 91043  70326    142637   0.6706     \n",
       "7   google  2020  1                 83031  64103    133736   0.6946     \n",
       "8   google  2020  7                 84343  73239    125423   0.7116     \n",
       "9   google  2020  2                 82626  68145    125318   0.7006     \n",
       "10  google  2020  3                 73844  61557    110546   0.7219     \n",
       "11  google  2019 12                 88579  75361    106966   0.5620     \n",
       "12  google  2020  4                 73349  62794    104146   0.6712     \n",
       "13  Bing    2020  5                 68869  55769     99838   0.5098     \n",
       "14  google  2020  1                 82671  72520     99500   0.6096     \n",
       "15  google  2019 11                 79783  65883     98400   0.5517     \n",
       "16  yahoo   2020  5                 82246  81585     90447   0.8613     \n",
       "17  google  2020  2                 69129  58861     82905   0.6134     \n",
       "18  google  2019 10                 65953  55972     80301   0.3672     \n",
       "19  Bing    2020  4                 50516  43034     74190   0.5075     \n",
       "20  google  2020  5                 55342  48064     66180   0.5830     \n",
       "21  Baidu   2019 10                 33658   4533     62972   0.3404     \n",
       "22  google  2020  6                 50645  44609     60789   0.6044     \n",
       "23  google  2020  3                 48288  41139     58580   0.6119     \n",
       "24  google  2020  8                 42747  35935     56931   0.6481     \n",
       "25  Baidu   2019 11                 31370   3721     55292   0.6209     \n",
       "26  Bing    2020  6                 36191  27156     51894   0.4967     \n",
       "27  google  2020  7                 43010  38395     50567   0.6229     \n",
       "28  google  2020  8                 42815  38735     50550   0.6345     \n",
       "29  google  2019  9                 40697  34012     48854   0.5557     \n",
       "30  AOL     2020  7                 42982  42730     45898   0.8625     \n",
       "... ...     ...  ...               ...    ...       ...      ...        \n",
       "220 ASK.COM 2019 11                158    132       198      0.3384     \n",
       "221 Bing    2020  7                108     47       193      0.3679     \n",
       "222 AOL     2020  1                140    127       192      0.5052     \n",
       "223 baidu   2019 11                116     13       191      0.2618     \n",
       "224 baidu   2020  4                 54      4       191      0.7592     \n",
       "225 AOL     2019 10                162    144       190      0.4158     \n",
       "226 baidu   2020  1                102     16       186      0.3925     \n",
       "227 AOL     2019  9                164    153       180      0.5778     \n",
       "228 google  2020  6                132    115       178      0.6067     \n",
       "229 google  2020  3                138    116       173      0.6185     \n",
       "230 baidu   2019  9                 86      1       169      0.7692     \n",
       "231 ASK.COM 2019 10                132    103       169      0.3254     \n",
       "232 Bing    2019 11                150     41       168      0.3095     \n",
       "233 AOL     2020  2                127    107       156      0.4744     \n",
       "234 google  2019 11                 41      1       152      0.6776     \n",
       "235 Baidu   2020  7                 73     18       149      0.6040     \n",
       "236 google  2020  1                123     71       147      0.7075     \n",
       "237 baidu   2020  2                 87     16       146      0.3151     \n",
       "238 AOL     2020  5                120    106       140      0.3643     \n",
       "239 AOL     2020  6                119    104       139      0.4245     \n",
       "240 google  2020  4                123     76       137      0.4234     \n",
       "241 baidu   2019  9                 90     83       137      0.0000     \n",
       "242 google  2020  5                119    112       135      0.2667     \n",
       "243 ASK.COM 2020  1                 94     71       135      0.2889     \n",
       "244 baidu   2019  9                 77      3       133      0.3083     \n",
       "245 ASK.COM 2020  5                109     91       132      0.3333     \n",
       "246 google  2020  5                111     97       131      0.6107     \n",
       "247 google  2020  2                112     81       130      0.6846     \n",
       "248 ASK.COM 2019 12                117     90       129      0.2946     \n",
       "249 google  2020  3                111     70       127      0.6220     \n",
       "    Pageviews Avg..Session.Duration Conversion.Rate.... Transactions Revenue\n",
       "1   455159    0:01:11               0.20                 394          83244 \n",
       "2   559509    0:01:32               0.69                1347         203552 \n",
       "3   368907    0:01:05               0.26                 477          94282 \n",
       "4   368803    0:01:01               0.18                 311          54971 \n",
       "5   425410    0:01:20               0.70                1138         167113 \n",
       "6   370798    0:01:20               0.34                 486         103001 \n",
       "7   373356    0:01:23               0.45                 601         128552 \n",
       "8   292263    0:01:12               0.58                 730          98161 \n",
       "9   328822    0:01:24               0.52                 657         126137 \n",
       "10  266187    0:01:15               0.48                 531          96195 \n",
       "11  333480    0:01:55               0.21                 225          47724 \n",
       "12  288195    0:01:25               0.60                 622          95367 \n",
       "13  325311    0:01:38               0.47                 471          58744 \n",
       "14  299723    0:01:48               0.25                 253          55954 \n",
       "15  342257    0:02:13               0.22                 218          57597 \n",
       "16  111745    0:00:26               0.00                   0              0 \n",
       "17  238736    0:01:51               0.35                 294          63161 \n",
       "18  263957    0:02:14               0.33                 268          60862 \n",
       "19  247484    0:01:35               0.38                 279          31663 \n",
       "20  213302    0:02:07               0.52                 341          54626 \n",
       "21  164136    0:01:46               0.25                 156          30842 \n",
       "22  181511    0:01:58               0.53                 322          47867 \n",
       "23  174115    0:02:00               0.31                 183          32795 \n",
       "24  149505    0:01:29               0.48                 272          43561 \n",
       "25  143387    0:01:42               0.16                  88          18327 \n",
       "26  167903    0:01:37               0.70                 364          42734 \n",
       "27  140013    0:01:54               0.38                 190          27580 \n",
       "28  135664    0:01:48               0.40                 204          31686 \n",
       "29  178347    0:02:16               0.24                 117          24924 \n",
       "30   78133    0:00:34               0.15                  67           9358 \n",
       "... ...       ...                   ...                 ...          ...    \n",
       "220 1388      0:03:55                0.00                0              0   \n",
       "221 1007      0:04:02                6.74               13           2081   \n",
       "222  893      0:02:52                0.52                1            195   \n",
       "223 1277      0:05:20                3.66                7           1995   \n",
       "224  287      0:01:27                0.00                0              0   \n",
       "225  720      0:01:55                0.00                0              0   \n",
       "226  983      0:03:36                7.53               14           3796   \n",
       "227  879      0:02:59                0.00                0              0   \n",
       "228  511      0:02:22                0.56                1             81   \n",
       "229  764      0:03:00                0.00                0              0   \n",
       "230  275      0:01:01                0.00                0              0   \n",
       "231  992      0:03:51                1.18                2           1558   \n",
       "232 1188      0:04:42                0.00                0              0   \n",
       "233  737      0:03:37                1.92                3            460   \n",
       "234  241      0:01:49                0.00                0              0   \n",
       "235  400      0:01:51                0.67                1            160   \n",
       "236  335      0:00:55                0.00                0              0   \n",
       "237 1013      0:04:57                8.90               13           2590   \n",
       "238  696      0:03:54                0.71                1             47   \n",
       "239  613      0:03:07                0.00                0              0   \n",
       "240  484      0:01:56                0.00                0              0   \n",
       "241  465      0:03:43               18.98               26           5908   \n",
       "242  546      0:03:40                0.00                0              0   \n",
       "243 1226      0:06:49                2.96                4           2111   \n",
       "244  970      0:05:35                6.02                8           1506   \n",
       "245  840      0:04:39                0.76                1            130   \n",
       "246  324      0:01:26                0.00                0              0   \n",
       "247  297      0:01:20                0.00                0              0   \n",
       "248 1000      0:05:36                0.78                1             81   \n",
       "249  397      0:01:27                0.79                1             77   \n",
       "    Quantity.Sold Device\n",
       "1    482          T     \n",
       "2   2402          T     \n",
       "3    599          T     \n",
       "4    415          PC    \n",
       "5   1987          PC    \n",
       "6    607          PC    \n",
       "7    777          PC    \n",
       "8   1360          PC    \n",
       "9    981          M     \n",
       "10   843          M     \n",
       "11   317          M     \n",
       "12  1150          PC    \n",
       "13   819          PC    \n",
       "14   377          PC    \n",
       "15   343          PC    \n",
       "16     0          T     \n",
       "17   500          T     \n",
       "18   419          T     \n",
       "19   489          T     \n",
       "20   742          T     \n",
       "21   261          T     \n",
       "22   678          T     \n",
       "23   325          PC    \n",
       "24   530          PC    \n",
       "25   144          PC    \n",
       "26   635          PC    \n",
       "27   341          PC    \n",
       "28   374          PC    \n",
       "29   228          PC    \n",
       "30   112          PC    \n",
       "... ...           ...   \n",
       "220  0            PC    \n",
       "221 39            PC    \n",
       "222  1            M     \n",
       "223 15            M     \n",
       "224  0            M     \n",
       "225  0            M     \n",
       "226 23            M     \n",
       "227  0            M     \n",
       "228  1            M     \n",
       "229  0            PC    \n",
       "230  0            PC    \n",
       "231 22            PC    \n",
       "232  0            PC    \n",
       "233 11            PC    \n",
       "234  0            PC    \n",
       "235  1            PC    \n",
       "236  0            PC    \n",
       "237 21            PC    \n",
       "238  1            PC    \n",
       "239  0            K     \n",
       "240  0            K     \n",
       "241 42            K     \n",
       "242  0            PC    \n",
       "243  5            PC    \n",
       "244 14            PC    \n",
       "245  1            PC    \n",
       "246  0            PC    \n",
       "247  0            PC    \n",
       "248  1            PC    \n",
       "249  1            PC    "
      ]
     },
     "metadata": {},
     "output_type": "display_data"
    }
   ],
   "source": [
    "web_analytics"
   ]
  },
  {
   "cell_type": "code",
   "execution_count": 14,
   "id": "1c2d2ce7",
   "metadata": {},
   "outputs": [
    {
     "name": "stderr",
     "output_type": "stream",
     "text": [
      "Loading required package: dplyr\n",
      "Error: package or namespace load failed for 'dplyr' in loadNamespace(i, c(lib.loc, .libPaths()), versionCheck = vI[[i]]):\n",
      " there is no package called 'lifecycle'\n"
     ]
    }
   ],
   "source": [
    "require(dplyr)"
   ]
  },
  {
   "cell_type": "code",
   "execution_count": 13,
   "id": "25ab3815",
   "metadata": {},
   "outputs": [
    {
     "name": "stderr",
     "output_type": "stream",
     "text": [
      "Loading required package: ggvis\n",
      "Warning message in library(package, lib.loc = lib.loc, character.only = TRUE, logical.return = TRUE, :\n",
      "\"there is no package called 'ggvis'\""
     ]
    }
   ],
   "source": [
    "require(datasets)\n",
    "require(ggvis)"
   ]
  },
  {
   "cell_type": "code",
   "execution_count": 12,
   "id": "f62299e6",
   "metadata": {},
   "outputs": [],
   "source": [
    "require(magrittr)"
   ]
  },
  {
   "cell_type": "code",
   "execution_count": 11,
   "id": "5e9c1ad7",
   "metadata": {},
   "outputs": [
    {
     "name": "stderr",
     "output_type": "stream",
     "text": [
      "also installing the dependencies 'lifecycle', 'pillar', 'rlang'\n",
      "\n"
     ]
    },
    {
     "name": "stdout",
     "output_type": "stream",
     "text": [
      "\n",
      "  There are binary versions available but the source versions are later:\n",
      "          binary source needs_compilation\n",
      "lifecycle  1.0.0  1.0.1             FALSE\n",
      "pillar     1.6.0  1.6.4             FALSE\n",
      "rlang     0.4.11 0.4.12              TRUE\n",
      "tibble     3.1.1  3.1.6              TRUE\n",
      "\n",
      "  Binaries will be installed\n",
      "package 'rlang' successfully unpacked and MD5 sums checked\n"
     ]
    },
    {
     "name": "stderr",
     "output_type": "stream",
     "text": [
      "Warning message:\n",
      "\"cannot remove prior installation of package 'rlang'\"Warning message in file.copy(savedcopy, lib, recursive = TRUE):\n",
      "\"problem copying C:\\Users\\Noman\\anaconda3\\envs\\r-tutorial\\Lib\\R\\library\\00LOCK\\rlang\\libs\\x64\\rlang.dll to C:\\Users\\Noman\\anaconda3\\envs\\r-tutorial\\Lib\\R\\library\\rlang\\libs\\x64\\rlang.dll: Permission denied\"Warning message:\n",
      "\"restored 'rlang'\""
     ]
    },
    {
     "name": "stdout",
     "output_type": "stream",
     "text": [
      "package 'tibble' successfully unpacked and MD5 sums checked\n",
      "\n",
      "The downloaded binary packages are in\n",
      "\tC:\\Users\\Noman\\AppData\\Local\\Temp\\Rtmpc5L8i3\\downloaded_packages\n"
     ]
    },
    {
     "name": "stderr",
     "output_type": "stream",
     "text": [
      "installing the source packages 'lifecycle', 'pillar'\n",
      "\n",
      "Warning message in install.packages(\"tibble\"):\n",
      "\"installation of package 'lifecycle' had non-zero exit status\"Warning message in install.packages(\"tibble\"):\n",
      "\"installation of package 'pillar' had non-zero exit status\"Warning message:\n",
      "\"package 'tibble' was built under R version 3.6.3\""
     ]
    },
    {
     "ename": "ERROR",
     "evalue": "Error: package or namespace load failed for 'tibble' in loadNamespace(i, c(lib.loc, .libPaths()), versionCheck = vI[[i]]):\n there is no package called 'lifecycle'\n",
     "output_type": "error",
     "traceback": [
      "Error: package or namespace load failed for 'tibble' in loadNamespace(i, c(lib.loc, .libPaths()), versionCheck = vI[[i]]):\n there is no package called 'lifecycle'\nTraceback:\n",
      "1. library(tibble)",
      "2. tryCatch({\n .     attr(package, \"LibPath\") <- which.lib.loc\n .     ns <- loadNamespace(package, lib.loc)\n .     env <- attachNamespace(ns, pos = pos, deps, exclude, include.only)\n . }, error = function(e) {\n .     P <- if (!is.null(cc <- conditionCall(e))) \n .         paste(\" in\", deparse(cc)[1L])\n .     else \"\"\n .     msg <- gettextf(\"package or namespace load failed for %s%s:\\n %s\", \n .         sQuote(package), P, conditionMessage(e))\n .     if (logical.return) \n .         message(paste(\"Error:\", msg), domain = NA)\n .     else stop(msg, call. = FALSE, domain = NA)\n . })",
      "3. tryCatchList(expr, classes, parentenv, handlers)",
      "4. tryCatchOne(expr, names, parentenv, handlers[[1L]])",
      "5. value[[3L]](cond)",
      "6. stop(msg, call. = FALSE, domain = NA)"
     ]
    }
   ],
   "source": [
    "install.packages(\"tibble\")\n",
    "library(tibble)"
   ]
  },
  {
   "cell_type": "code",
   "execution_count": 19,
   "id": "f398e0cd",
   "metadata": {},
   "outputs": [],
   "source": [
    "##Revenue <- web_analytics %>%\n",
    " #   group_by(Year) %>%\n",
    " #   slice(1:3)\n",
    "\n",
    "#Revenue"
   ]
  },
  {
   "cell_type": "code",
   "execution_count": 28,
   "id": "d987075a",
   "metadata": {},
   "outputs": [],
   "source": [
    "web_df <- tbl_df(web_analytics)"
   ]
  },
  {
   "cell_type": "code",
   "execution_count": 44,
   "id": "2f33cc5b",
   "metadata": {},
   "outputs": [
    {
     "data": {
      "image/png": "[encoded data removed]",
      "text/plain": [
       "Plot with title \"Top 3 Sources as per Revenue\""
      ]
     },
     "metadata": {},
     "output_type": "display_data"
    }
   ],
   "source": [
    "revenue <- filter(web_df)\n",
    "counts <- table(revenue$Year, revenue$Source)\n",
    "barplot(counts, main=\"Top 3 Sources as per Revenue\",\n",
    "    xlab=\"Sources\",ylab=\"Revenue Generated\", col=c(\"darkblue\",\"red\"),\n",
    "    legend = c('2020','2021'), beside=TRUE)"
   ]
  },
  {
   "cell_type": "code",
   "execution_count": 41,
   "id": "a063d13e",
   "metadata": {},
   "outputs": [
    {
     "data": {
      "image/png": "[encoded data removed]",
      "text/plain": [
       "Plot with title \"Top 3 Sources as per Revenue\""
      ]
     },
     "metadata": {},
     "output_type": "display_data"
    }
   ],
   "source": [
    "year <- filter(web_df)\n",
    "counts <- table(year$Source, year$Revenue)\n",
    "barplot(counts, main=\"Top 3 Sources as per Revenue\",\n",
    "    xlab=\"Sources\",ylab=\"Revenue Generated\", col=c(\"darkblue\",\"red\"),\n",
    "    legend = c('2020','2021'), beside=TRUE)"
   ]
  },
  {
   "cell_type": "code",
   "execution_count": 47,
   "id": "9ec0e67d",
   "metadata": {},
   "outputs": [
    {
     "data": {
      "image/png": "[encoded data removed]",
      "text/plain": [
       "Plot with title \"Devices use to access site per Year\""
      ]
     },
     "metadata": {},
     "output_type": "display_data"
    }
   ],
   "source": [
    "access <- filter(web_df)\n",
    "counts <- table(access$Year, access$Device)\n",
    "barplot(counts, main=\"Devices use to access site per Year\",\n",
    "    xlab=\"Device\",ylab=\"Site Access\", col=c(\"darkblue\",\"red\"),\n",
    "    legend = c('2020','2021'), beside=TRUE)"
   ]
  },
  {
   "cell_type": "code",
   "execution_count": 50,
   "id": "b6f8f6e2",
   "metadata": {},
   "outputs": [
    {
     "data": {
      "image/png": "[encoded data removed]",
      "text/plain": [
       "Plot with title \"Devices use to access site per Month\""
      ]
     },
     "metadata": {},
     "output_type": "display_data"
    }
   ],
   "source": [
    "access <- filter(web_df)\n",
    "counts <- table(access$Month.of.the.year, access$Device)\n",
    "barplot(counts, main=\"Devices use to access site per Month\",\n",
    "    xlab=\"Device\",ylab=\"Site Access\", col=c(\"blue\",\"red\",\"green\",\"orange\",\"yellow\",'pink','purple','white','brown','black','gray','coral'),\n",
    "    legend = c('Jan','Feb','Mar','Apr','May','Jun','Jul','Aug','Sep','Oct','Nov','Dec'), beside=TRUE)"
   ]
  },
  {
   "cell_type": "code",
   "execution_count": 19,
   "id": "9d2ed71d",
   "metadata": {},
   "outputs": [
    {
     "ename": "ERROR",
     "evalue": "Error in select(., web_analytics, Bounce.Rate:Coversion.Rate:Transaction:Revenue): could not find function \"select\"\n",
     "output_type": "error",
     "traceback": [
      "Error in select(., web_analytics, Bounce.Rate:Coversion.Rate:Transaction:Revenue): could not find function \"select\"\nTraceback:\n",
      "1. web_analytics %>% select(web_analytics, Bounce.Rate:Coversion.Rate:Transaction:Revenue)",
      "2. withVisible(eval(quote(`_fseq`(`_lhs`)), env, env))",
      "3. eval(quote(`_fseq`(`_lhs`)), env, env)",
      "4. eval(quote(`_fseq`(`_lhs`)), env, env)",
      "5. `_fseq`(`_lhs`)",
      "6. freduce(value, `_function_list`)",
      "7. withVisible(function_list[[k]](value))",
      "8. function_list[[k]](value)"
     ]
    }
   ],
   "source": [
    "web_col <- web_analytics %>%\n",
    "    select(web_analytics,Bounce.Rate:Coversion.Rate:Transaction:Revenue)\n",
    "\n",
    "web_col"
   ]
  },
  {
   "cell_type": "code",
   "execution_count": 20,
   "id": "055f7b86",
   "metadata": {},
   "outputs": [
    {
     "name": "stderr",
     "output_type": "stream",
     "text": [
      "also installing the dependencies 'glue', 'lifecycle', 'rlang', 'tidyselect', 'pillar'\n",
      "\n"
     ]
    },
    {
     "name": "stdout",
     "output_type": "stream",
     "text": [
      "\n",
      "  There are binary versions available but the source versions are later:\n",
      "          binary source needs_compilation\n",
      "glue       1.4.2  1.5.1              TRUE\n",
      "lifecycle  1.0.0  1.0.1             FALSE\n",
      "rlang     0.4.11 0.4.12              TRUE\n",
      "pillar     1.6.0  1.6.4             FALSE\n",
      "dplyr      1.0.6  1.0.7              TRUE\n",
      "\n",
      "  Binaries will be installed\n",
      "package 'glue' successfully unpacked and MD5 sums checked\n"
     ]
    },
    {
     "name": "stderr",
     "output_type": "stream",
     "text": [
      "Warning message:\n",
      "\"cannot remove prior installation of package 'glue'\"Warning message in file.copy(savedcopy, lib, recursive = TRUE):\n",
      "\"problem copying C:\\Users\\Noman\\anaconda3\\envs\\r-tutorial\\Lib\\R\\library\\00LOCK\\glue\\libs\\x64\\glue.dll to C:\\Users\\Noman\\anaconda3\\envs\\r-tutorial\\Lib\\R\\library\\glue\\libs\\x64\\glue.dll: Permission denied\"Warning message:\n",
      "\"restored 'glue'\""
     ]
    },
    {
     "name": "stdout",
     "output_type": "stream",
     "text": [
      "package 'rlang' successfully unpacked and MD5 sums checked\n"
     ]
    },
    {
     "name": "stderr",
     "output_type": "stream",
     "text": [
      "Warning message:\n",
      "\"cannot remove prior installation of package 'rlang'\"Warning message in file.copy(savedcopy, lib, recursive = TRUE):\n",
      "\"problem copying C:\\Users\\Noman\\anaconda3\\envs\\r-tutorial\\Lib\\R\\library\\00LOCK\\rlang\\libs\\x64\\rlang.dll to C:\\Users\\Noman\\anaconda3\\envs\\r-tutorial\\Lib\\R\\library\\rlang\\libs\\x64\\rlang.dll: Permission denied\"Warning message:\n",
      "\"restored 'rlang'\""
     ]
    },
    {
     "name": "stdout",
     "output_type": "stream",
     "text": [
      "package 'tidyselect' successfully unpacked and MD5 sums checked\n",
      "package 'dplyr' successfully unpacked and MD5 sums checked\n",
      "\n",
      "The downloaded binary packages are in\n",
      "\tC:\\Users\\Noman\\AppData\\Local\\Temp\\Rtmpc5L8i3\\downloaded_packages\n"
     ]
    },
    {
     "name": "stderr",
     "output_type": "stream",
     "text": [
      "installing the source packages 'lifecycle', 'pillar'\n",
      "\n",
      "Warning message in install.packages(\"dplyr\"):\n",
      "\"installation of package 'lifecycle' had non-zero exit status\"Warning message in install.packages(\"dplyr\"):\n",
      "\"installation of package 'pillar' had non-zero exit status\""
     ]
    }
   ],
   "source": [
    "install.packages('dplyr')"
   ]
  },
  {
   "cell_type": "code",
   "execution_count": 21,
   "id": "4358f273",
   "metadata": {},
   "outputs": [
    {
     "name": "stderr",
     "output_type": "stream",
     "text": [
      "Warning message:\n",
      "\"package 'dplyr' was built under R version 3.6.3\""
     ]
    },
    {
     "ename": "ERROR",
     "evalue": "Error: package or namespace load failed for 'dplyr' in loadNamespace(i, c(lib.loc, .libPaths()), versionCheck = vI[[i]]):\n namespace 'rlang' 0.3.4 is already loaded, but >= 0.4.10 is required\n",
     "output_type": "error",
     "traceback": [
      "Error: package or namespace load failed for 'dplyr' in loadNamespace(i, c(lib.loc, .libPaths()), versionCheck = vI[[i]]):\n namespace 'rlang' 0.3.4 is already loaded, but >= 0.4.10 is required\nTraceback:\n",
      "1. library(dplyr)",
      "2. tryCatch({\n .     attr(package, \"LibPath\") <- which.lib.loc\n .     ns <- loadNamespace(package, lib.loc)\n .     env <- attachNamespace(ns, pos = pos, deps, exclude, include.only)\n . }, error = function(e) {\n .     P <- if (!is.null(cc <- conditionCall(e))) \n .         paste(\" in\", deparse(cc)[1L])\n .     else \"\"\n .     msg <- gettextf(\"package or namespace load failed for %s%s:\\n %s\", \n .         sQuote(package), P, conditionMessage(e))\n .     if (logical.return) \n .         message(paste(\"Error:\", msg), domain = NA)\n .     else stop(msg, call. = FALSE, domain = NA)\n . })",
      "3. tryCatchList(expr, classes, parentenv, handlers)",
      "4. tryCatchOne(expr, names, parentenv, handlers[[1L]])",
      "5. value[[3L]](cond)",
      "6. stop(msg, call. = FALSE, domain = NA)"
     ]
    }
   ],
   "source": [
    "library(dplyr)\n"
   ]
  },
  {
   "cell_type": "code",
   "execution_count": 29,
   "id": "6b990f16",
   "metadata": {},
   "outputs": [
    {
     "ename": "ERROR",
     "evalue": "Error in select(., web_analytics, Transaction:Revenue): could not find function \"select\"\n",
     "output_type": "error",
     "traceback": [
      "Error in select(., web_analytics, Transaction:Revenue): could not find function \"select\"\nTraceback:\n",
      "1. web_analytics %>% select(web_analytics, Transaction:Revenue)",
      "2. withVisible(eval(quote(`_fseq`(`_lhs`)), env, env))",
      "3. eval(quote(`_fseq`(`_lhs`)), env, env)",
      "4. eval(quote(`_fseq`(`_lhs`)), env, env)",
      "5. `_fseq`(`_lhs`)",
      "6. freduce(value, `_function_list`)",
      "7. withVisible(function_list[[k]](value))",
      "8. function_list[[k]](value)"
     ]
    }
   ],
   "source": [
    "web_col <- web_analytics %>%\n",
    "    select(web_analytics,Transaction:Revenue)\n",
    "\n",
    "web_col"
   ]
  },
  {
   "cell_type": "code",
   "execution_count": 31,
   "id": "73d14ea7",
   "metadata": {},
   "outputs": [
    {
     "ename": "ERROR",
     "evalue": "Error in `[.data.frame`(web_analytics, , c(\"Bounce.Rate\", \"Conversion.Rate\", : undefined columns selected\n",
     "output_type": "error",
     "traceback": [
      "Error in `[.data.frame`(web_analytics, , c(\"Bounce.Rate\", \"Conversion.Rate\", : undefined columns selected\nTraceback:\n",
      "1. web_analytics[, c(\"Bounce.Rate\", \"Conversion.Rate\", \"Transactions\", \n .     \"Revenue\")]",
      "2. `[.data.frame`(web_analytics, , c(\"Bounce.Rate\", \"Conversion.Rate\", \n .     \"Transactions\", \"Revenue\"))",
      "3. stop(\"undefined columns selected\")"
     ]
    }
   ],
   "source": [
    "web_analytics[, c('Bounce.Rate','Conversion.Rate',\"Transactions\",\"Revenue\")]"
   ]
  },
  {
   "cell_type": "code",
   "execution_count": 33,
   "id": "c511521b",
   "metadata": {},
   "outputs": [
    {
     "name": "stderr",
     "output_type": "stream",
     "text": [
      "Warning message:\n",
      "\"package 'dplyr' was built under R version 3.6.3\""
     ]
    },
    {
     "ename": "ERROR",
     "evalue": "Error: package or namespace load failed for 'dplyr' in loadNamespace(i, c(lib.loc, .libPaths()), versionCheck = vI[[i]]):\n namespace 'rlang' 0.3.4 is already loaded, but >= 0.4.10 is required\n",
     "output_type": "error",
     "traceback": [
      "Error: package or namespace load failed for 'dplyr' in loadNamespace(i, c(lib.loc, .libPaths()), versionCheck = vI[[i]]):\n namespace 'rlang' 0.3.4 is already loaded, but >= 0.4.10 is required\nTraceback:\n",
      "1. library(dplyr)",
      "2. tryCatch({\n .     attr(package, \"LibPath\") <- which.lib.loc\n .     ns <- loadNamespace(package, lib.loc)\n .     env <- attachNamespace(ns, pos = pos, deps, exclude, include.only)\n . }, error = function(e) {\n .     P <- if (!is.null(cc <- conditionCall(e))) \n .         paste(\" in\", deparse(cc)[1L])\n .     else \"\"\n .     msg <- gettextf(\"package or namespace load failed for %s%s:\\n %s\", \n .         sQuote(package), P, conditionMessage(e))\n .     if (logical.return) \n .         message(paste(\"Error:\", msg), domain = NA)\n .     else stop(msg, call. = FALSE, domain = NA)\n . })",
      "3. tryCatchList(expr, classes, parentenv, handlers)",
      "4. tryCatchOne(expr, names, parentenv, handlers[[1L]])",
      "5. value[[3L]](cond)",
      "6. stop(msg, call. = FALSE, domain = NA)"
     ]
    }
   ],
   "source": [
    "library(dplyr)"
   ]
  },
  {
   "cell_type": "code",
   "execution_count": 34,
   "id": "728fb7c7",
   "metadata": {},
   "outputs": [
    {
     "ename": "ERROR",
     "evalue": "Error in select(web_analytics, c(\"Bounce.Rate\", \"Conversion.Rate\", \"Transactions\", : could not find function \"select\"\n",
     "output_type": "error",
     "traceback": [
      "Error in select(web_analytics, c(\"Bounce.Rate\", \"Conversion.Rate\", \"Transactions\", : could not find function \"select\"\nTraceback:\n"
     ]
    }
   ],
   "source": [
    "select(web_analytics, c('Bounce.Rate','Conversion.Rate',\"Transactions\",\"Revenue\"))"
   ]
  },
  {
   "cell_type": "code",
   "execution_count": 56,
   "id": "7f590f17",
   "metadata": {},
   "outputs": [
    {
     "data": {
      "text/html": [
       "<table>\n",
       "<thead><tr><th scope=col>Bounce.Rate</th><th scope=col>Conversion.Rate....</th><th scope=col>Transactions</th><th scope=col>Revenue</th></tr></thead>\n",
       "<tbody>\n",
       "\t<tr><td>0.7159</td><td>0.20  </td><td> 394  </td><td> 83244</td></tr>\n",
       "\t<tr><td>0.6456</td><td>0.69  </td><td>1347  </td><td>203552</td></tr>\n",
       "\t<tr><td>0.4191</td><td>0.26  </td><td> 477  </td><td> 94282</td></tr>\n",
       "\t<tr><td>0.7592</td><td>0.18  </td><td> 311  </td><td> 54971</td></tr>\n",
       "\t<tr><td>0.6710</td><td>0.70  </td><td>1138  </td><td>167113</td></tr>\n",
       "\t<tr><td>0.6706</td><td>0.34  </td><td> 486  </td><td>103001</td></tr>\n",
       "\t<tr><td>0.6946</td><td>0.45  </td><td> 601  </td><td>128552</td></tr>\n",
       "\t<tr><td>0.7116</td><td>0.58  </td><td> 730  </td><td> 98161</td></tr>\n",
       "\t<tr><td>0.7006</td><td>0.52  </td><td> 657  </td><td>126137</td></tr>\n",
       "\t<tr><td>0.7219</td><td>0.48  </td><td> 531  </td><td> 96195</td></tr>\n",
       "\t<tr><td>0.5620</td><td>0.21  </td><td> 225  </td><td> 47724</td></tr>\n",
       "\t<tr><td>0.6712</td><td>0.60  </td><td> 622  </td><td> 95367</td></tr>\n",
       "\t<tr><td>0.5098</td><td>0.47  </td><td> 471  </td><td> 58744</td></tr>\n",
       "\t<tr><td>0.6096</td><td>0.25  </td><td> 253  </td><td> 55954</td></tr>\n",
       "\t<tr><td>0.5517</td><td>0.22  </td><td> 218  </td><td> 57597</td></tr>\n",
       "\t<tr><td>0.8613</td><td>0.00  </td><td>   0  </td><td>     0</td></tr>\n",
       "\t<tr><td>0.6134</td><td>0.35  </td><td> 294  </td><td> 63161</td></tr>\n",
       "\t<tr><td>0.3672</td><td>0.33  </td><td> 268  </td><td> 60862</td></tr>\n",
       "\t<tr><td>0.5075</td><td>0.38  </td><td> 279  </td><td> 31663</td></tr>\n",
       "\t<tr><td>0.5830</td><td>0.52  </td><td> 341  </td><td> 54626</td></tr>\n",
       "\t<tr><td>0.3404</td><td>0.25  </td><td> 156  </td><td> 30842</td></tr>\n",
       "\t<tr><td>0.6044</td><td>0.53  </td><td> 322  </td><td> 47867</td></tr>\n",
       "\t<tr><td>0.6119</td><td>0.31  </td><td> 183  </td><td> 32795</td></tr>\n",
       "\t<tr><td>0.6481</td><td>0.48  </td><td> 272  </td><td> 43561</td></tr>\n",
       "\t<tr><td>0.6209</td><td>0.16  </td><td>  88  </td><td> 18327</td></tr>\n",
       "\t<tr><td>0.4967</td><td>0.70  </td><td> 364  </td><td> 42734</td></tr>\n",
       "\t<tr><td>0.6229</td><td>0.38  </td><td> 190  </td><td> 27580</td></tr>\n",
       "\t<tr><td>0.6345</td><td>0.40  </td><td> 204  </td><td> 31686</td></tr>\n",
       "\t<tr><td>0.5557</td><td>0.24  </td><td> 117  </td><td> 24924</td></tr>\n",
       "\t<tr><td>0.8625</td><td>0.15  </td><td>  67  </td><td>  9358</td></tr>\n",
       "\t<tr><td>...</td><td>...</td><td>...</td><td>...</td></tr>\n",
       "\t<tr><td>0.3384</td><td> 0.00 </td><td> 0    </td><td>   0  </td></tr>\n",
       "\t<tr><td>0.3679</td><td> 6.74 </td><td>13    </td><td>2081  </td></tr>\n",
       "\t<tr><td>0.5052</td><td> 0.52 </td><td> 1    </td><td> 195  </td></tr>\n",
       "\t<tr><td>0.2618</td><td> 3.66 </td><td> 7    </td><td>1995  </td></tr>\n",
       "\t<tr><td>0.7592</td><td> 0.00 </td><td> 0    </td><td>   0  </td></tr>\n",
       "\t<tr><td>0.4158</td><td> 0.00 </td><td> 0    </td><td>   0  </td></tr>\n",
       "\t<tr><td>0.3925</td><td> 7.53 </td><td>14    </td><td>3796  </td></tr>\n",
       "\t<tr><td>0.5778</td><td> 0.00 </td><td> 0    </td><td>   0  </td></tr>\n",
       "\t<tr><td>0.6067</td><td> 0.56 </td><td> 1    </td><td>  81  </td></tr>\n",
       "\t<tr><td>0.6185</td><td> 0.00 </td><td> 0    </td><td>   0  </td></tr>\n",
       "\t<tr><td>0.7692</td><td> 0.00 </td><td> 0    </td><td>   0  </td></tr>\n",
       "\t<tr><td>0.3254</td><td> 1.18 </td><td> 2    </td><td>1558  </td></tr>\n",
       "\t<tr><td>0.3095</td><td> 0.00 </td><td> 0    </td><td>   0  </td></tr>\n",
       "\t<tr><td>0.4744</td><td> 1.92 </td><td> 3    </td><td> 460  </td></tr>\n",
       "\t<tr><td>0.6776</td><td> 0.00 </td><td> 0    </td><td>   0  </td></tr>\n",
       "\t<tr><td>0.6040</td><td> 0.67 </td><td> 1    </td><td> 160  </td></tr>\n",
       "\t<tr><td>0.7075</td><td> 0.00 </td><td> 0    </td><td>   0  </td></tr>\n",
       "\t<tr><td>0.3151</td><td> 8.90 </td><td>13    </td><td>2590  </td></tr>\n",
       "\t<tr><td>0.3643</td><td> 0.71 </td><td> 1    </td><td>  47  </td></tr>\n",
       "\t<tr><td>0.4245</td><td> 0.00 </td><td> 0    </td><td>   0  </td></tr>\n",
       "\t<tr><td>0.4234</td><td> 0.00 </td><td> 0    </td><td>   0  </td></tr>\n",
       "\t<tr><td>0.0000</td><td>18.98 </td><td>26    </td><td>5908  </td></tr>\n",
       "\t<tr><td>0.2667</td><td> 0.00 </td><td> 0    </td><td>   0  </td></tr>\n",
       "\t<tr><td>0.2889</td><td> 2.96 </td><td> 4    </td><td>2111  </td></tr>\n",
       "\t<tr><td>0.3083</td><td> 6.02 </td><td> 8    </td><td>1506  </td></tr>\n",
       "\t<tr><td>0.3333</td><td> 0.76 </td><td> 1    </td><td> 130  </td></tr>\n",
       "\t<tr><td>0.6107</td><td> 0.00 </td><td> 0    </td><td>   0  </td></tr>\n",
       "\t<tr><td>0.6846</td><td> 0.00 </td><td> 0    </td><td>   0  </td></tr>\n",
       "\t<tr><td>0.2946</td><td> 0.78 </td><td> 1    </td><td>  81  </td></tr>\n",
       "\t<tr><td>0.6220</td><td> 0.79 </td><td> 1    </td><td>  77  </td></tr>\n",
       "</tbody>\n",
       "</table>\n"
      ],
      "text/latex": [
       "\\begin{tabular}{r|llll}\n",
       " Bounce.Rate & Conversion.Rate.... & Transactions & Revenue\\\\\n",
       "\\hline\n",
       "\t 0.7159 & 0.20   &  394   &  83244\\\\\n",
       "\t 0.6456 & 0.69   & 1347   & 203552\\\\\n",
       "\t 0.4191 & 0.26   &  477   &  94282\\\\\n",
       "\t 0.7592 & 0.18   &  311   &  54971\\\\\n",
       "\t 0.6710 & 0.70   & 1138   & 167113\\\\\n",
       "\t 0.6706 & 0.34   &  486   & 103001\\\\\n",
       "\t 0.6946 & 0.45   &  601   & 128552\\\\\n",
       "\t 0.7116 & 0.58   &  730   &  98161\\\\\n",
       "\t 0.7006 & 0.52   &  657   & 126137\\\\\n",
       "\t 0.7219 & 0.48   &  531   &  96195\\\\\n",
       "\t 0.5620 & 0.21   &  225   &  47724\\\\\n",
       "\t 0.6712 & 0.60   &  622   &  95367\\\\\n",
       "\t 0.5098 & 0.47   &  471   &  58744\\\\\n",
       "\t 0.6096 & 0.25   &  253   &  55954\\\\\n",
       "\t 0.5517 & 0.22   &  218   &  57597\\\\\n",
       "\t 0.8613 & 0.00   &    0   &      0\\\\\n",
       "\t 0.6134 & 0.35   &  294   &  63161\\\\\n",
       "\t 0.3672 & 0.33   &  268   &  60862\\\\\n",
       "\t 0.5075 & 0.38   &  279   &  31663\\\\\n",
       "\t 0.5830 & 0.52   &  341   &  54626\\\\\n",
       "\t 0.3404 & 0.25   &  156   &  30842\\\\\n",
       "\t 0.6044 & 0.53   &  322   &  47867\\\\\n",
       "\t 0.6119 & 0.31   &  183   &  32795\\\\\n",
       "\t 0.6481 & 0.48   &  272   &  43561\\\\\n",
       "\t 0.6209 & 0.16   &   88   &  18327\\\\\n",
       "\t 0.4967 & 0.70   &  364   &  42734\\\\\n",
       "\t 0.6229 & 0.38   &  190   &  27580\\\\\n",
       "\t 0.6345 & 0.40   &  204   &  31686\\\\\n",
       "\t 0.5557 & 0.24   &  117   &  24924\\\\\n",
       "\t 0.8625 & 0.15   &   67   &   9358\\\\\n",
       "\t ... & ... & ... & ...\\\\\n",
       "\t 0.3384 &  0.00  &  0     &    0  \\\\\n",
       "\t 0.3679 &  6.74  & 13     & 2081  \\\\\n",
       "\t 0.5052 &  0.52  &  1     &  195  \\\\\n",
       "\t 0.2618 &  3.66  &  7     & 1995  \\\\\n",
       "\t 0.7592 &  0.00  &  0     &    0  \\\\\n",
       "\t 0.4158 &  0.00  &  0     &    0  \\\\\n",
       "\t 0.3925 &  7.53  & 14     & 3796  \\\\\n",
       "\t 0.5778 &  0.00  &  0     &    0  \\\\\n",
       "\t 0.6067 &  0.56  &  1     &   81  \\\\\n",
       "\t 0.6185 &  0.00  &  0     &    0  \\\\\n",
       "\t 0.7692 &  0.00  &  0     &    0  \\\\\n",
       "\t 0.3254 &  1.18  &  2     & 1558  \\\\\n",
       "\t 0.3095 &  0.00  &  0     &    0  \\\\\n",
       "\t 0.4744 &  1.92  &  3     &  460  \\\\\n",
       "\t 0.6776 &  0.00  &  0     &    0  \\\\\n",
       "\t 0.6040 &  0.67  &  1     &  160  \\\\\n",
       "\t 0.7075 &  0.00  &  0     &    0  \\\\\n",
       "\t 0.3151 &  8.90  & 13     & 2590  \\\\\n",
       "\t 0.3643 &  0.71  &  1     &   47  \\\\\n",
       "\t 0.4245 &  0.00  &  0     &    0  \\\\\n",
       "\t 0.4234 &  0.00  &  0     &    0  \\\\\n",
       "\t 0.0000 & 18.98  & 26     & 5908  \\\\\n",
       "\t 0.2667 &  0.00  &  0     &    0  \\\\\n",
       "\t 0.2889 &  2.96  &  4     & 2111  \\\\\n",
       "\t 0.3083 &  6.02  &  8     & 1506  \\\\\n",
       "\t 0.3333 &  0.76  &  1     &  130  \\\\\n",
       "\t 0.6107 &  0.00  &  0     &    0  \\\\\n",
       "\t 0.6846 &  0.00  &  0     &    0  \\\\\n",
       "\t 0.2946 &  0.78  &  1     &   81  \\\\\n",
       "\t 0.6220 &  0.79  &  1     &   77  \\\\\n",
       "\\end{tabular}\n"
      ],
      "text/markdown": [
       "\n",
       "| Bounce.Rate | Conversion.Rate.... | Transactions | Revenue |\n",
       "|---|---|---|---|\n",
       "| 0.7159 | 0.20   |  394   |  83244 |\n",
       "| 0.6456 | 0.69   | 1347   | 203552 |\n",
       "| 0.4191 | 0.26   |  477   |  94282 |\n",
       "| 0.7592 | 0.18   |  311   |  54971 |\n",
       "| 0.6710 | 0.70   | 1138   | 167113 |\n",
       "| 0.6706 | 0.34   |  486   | 103001 |\n",
       "| 0.6946 | 0.45   |  601   | 128552 |\n",
       "| 0.7116 | 0.58   |  730   |  98161 |\n",
       "| 0.7006 | 0.52   |  657   | 126137 |\n",
       "| 0.7219 | 0.48   |  531   |  96195 |\n",
       "| 0.5620 | 0.21   |  225   |  47724 |\n",
       "| 0.6712 | 0.60   |  622   |  95367 |\n",
       "| 0.5098 | 0.47   |  471   |  58744 |\n",
       "| 0.6096 | 0.25   |  253   |  55954 |\n",
       "| 0.5517 | 0.22   |  218   |  57597 |\n",
       "| 0.8613 | 0.00   |    0   |      0 |\n",
       "| 0.6134 | 0.35   |  294   |  63161 |\n",
       "| 0.3672 | 0.33   |  268   |  60862 |\n",
       "| 0.5075 | 0.38   |  279   |  31663 |\n",
       "| 0.5830 | 0.52   |  341   |  54626 |\n",
       "| 0.3404 | 0.25   |  156   |  30842 |\n",
       "| 0.6044 | 0.53   |  322   |  47867 |\n",
       "| 0.6119 | 0.31   |  183   |  32795 |\n",
       "| 0.6481 | 0.48   |  272   |  43561 |\n",
       "| 0.6209 | 0.16   |   88   |  18327 |\n",
       "| 0.4967 | 0.70   |  364   |  42734 |\n",
       "| 0.6229 | 0.38   |  190   |  27580 |\n",
       "| 0.6345 | 0.40   |  204   |  31686 |\n",
       "| 0.5557 | 0.24   |  117   |  24924 |\n",
       "| 0.8625 | 0.15   |   67   |   9358 |\n",
       "| ... | ... | ... | ... |\n",
       "| 0.3384 |  0.00  |  0     |    0   |\n",
       "| 0.3679 |  6.74  | 13     | 2081   |\n",
       "| 0.5052 |  0.52  |  1     |  195   |\n",
       "| 0.2618 |  3.66  |  7     | 1995   |\n",
       "| 0.7592 |  0.00  |  0     |    0   |\n",
       "| 0.4158 |  0.00  |  0     |    0   |\n",
       "| 0.3925 |  7.53  | 14     | 3796   |\n",
       "| 0.5778 |  0.00  |  0     |    0   |\n",
       "| 0.6067 |  0.56  |  1     |   81   |\n",
       "| 0.6185 |  0.00  |  0     |    0   |\n",
       "| 0.7692 |  0.00  |  0     |    0   |\n",
       "| 0.3254 |  1.18  |  2     | 1558   |\n",
       "| 0.3095 |  0.00  |  0     |    0   |\n",
       "| 0.4744 |  1.92  |  3     |  460   |\n",
       "| 0.6776 |  0.00  |  0     |    0   |\n",
       "| 0.6040 |  0.67  |  1     |  160   |\n",
       "| 0.7075 |  0.00  |  0     |    0   |\n",
       "| 0.3151 |  8.90  | 13     | 2590   |\n",
       "| 0.3643 |  0.71  |  1     |   47   |\n",
       "| 0.4245 |  0.00  |  0     |    0   |\n",
       "| 0.4234 |  0.00  |  0     |    0   |\n",
       "| 0.0000 | 18.98  | 26     | 5908   |\n",
       "| 0.2667 |  0.00  |  0     |    0   |\n",
       "| 0.2889 |  2.96  |  4     | 2111   |\n",
       "| 0.3083 |  6.02  |  8     | 1506   |\n",
       "| 0.3333 |  0.76  |  1     |  130   |\n",
       "| 0.6107 |  0.00  |  0     |    0   |\n",
       "| 0.6846 |  0.00  |  0     |    0   |\n",
       "| 0.2946 |  0.78  |  1     |   81   |\n",
       "| 0.6220 |  0.79  |  1     |   77   |\n",
       "\n"
      ],
      "text/plain": [
       "    Bounce.Rate Conversion.Rate.... Transactions Revenue\n",
       "1   0.7159      0.20                 394          83244 \n",
       "2   0.6456      0.69                1347         203552 \n",
       "3   0.4191      0.26                 477          94282 \n",
       "4   0.7592      0.18                 311          54971 \n",
       "5   0.6710      0.70                1138         167113 \n",
       "6   0.6706      0.34                 486         103001 \n",
       "7   0.6946      0.45                 601         128552 \n",
       "8   0.7116      0.58                 730          98161 \n",
       "9   0.7006      0.52                 657         126137 \n",
       "10  0.7219      0.48                 531          96195 \n",
       "11  0.5620      0.21                 225          47724 \n",
       "12  0.6712      0.60                 622          95367 \n",
       "13  0.5098      0.47                 471          58744 \n",
       "14  0.6096      0.25                 253          55954 \n",
       "15  0.5517      0.22                 218          57597 \n",
       "16  0.8613      0.00                   0              0 \n",
       "17  0.6134      0.35                 294          63161 \n",
       "18  0.3672      0.33                 268          60862 \n",
       "19  0.5075      0.38                 279          31663 \n",
       "20  0.5830      0.52                 341          54626 \n",
       "21  0.3404      0.25                 156          30842 \n",
       "22  0.6044      0.53                 322          47867 \n",
       "23  0.6119      0.31                 183          32795 \n",
       "24  0.6481      0.48                 272          43561 \n",
       "25  0.6209      0.16                  88          18327 \n",
       "26  0.4967      0.70                 364          42734 \n",
       "27  0.6229      0.38                 190          27580 \n",
       "28  0.6345      0.40                 204          31686 \n",
       "29  0.5557      0.24                 117          24924 \n",
       "30  0.8625      0.15                  67           9358 \n",
       "... ...         ...                 ...          ...    \n",
       "220 0.3384       0.00                0              0   \n",
       "221 0.3679       6.74               13           2081   \n",
       "222 0.5052       0.52                1            195   \n",
       "223 0.2618       3.66                7           1995   \n",
       "224 0.7592       0.00                0              0   \n",
       "225 0.4158       0.00                0              0   \n",
       "226 0.3925       7.53               14           3796   \n",
       "227 0.5778       0.00                0              0   \n",
       "228 0.6067       0.56                1             81   \n",
       "229 0.6185       0.00                0              0   \n",
       "230 0.7692       0.00                0              0   \n",
       "231 0.3254       1.18                2           1558   \n",
       "232 0.3095       0.00                0              0   \n",
       "233 0.4744       1.92                3            460   \n",
       "234 0.6776       0.00                0              0   \n",
       "235 0.6040       0.67                1            160   \n",
       "236 0.7075       0.00                0              0   \n",
       "237 0.3151       8.90               13           2590   \n",
       "238 0.3643       0.71                1             47   \n",
       "239 0.4245       0.00                0              0   \n",
       "240 0.4234       0.00                0              0   \n",
       "241 0.0000      18.98               26           5908   \n",
       "242 0.2667       0.00                0              0   \n",
       "243 0.2889       2.96                4           2111   \n",
       "244 0.3083       6.02                8           1506   \n",
       "245 0.3333       0.76                1            130   \n",
       "246 0.6107       0.00                0              0   \n",
       "247 0.6846       0.00                0              0   \n",
       "248 0.2946       0.78                1             81   \n",
       "249 0.6220       0.79                1             77   "
      ]
     },
     "metadata": {},
     "output_type": "display_data"
    }
   ],
   "source": [
    "web_col <- web_analytics[, c(7,10,11,12)]\n",
    "web_col"
   ]
  },
  {
   "cell_type": "code",
   "execution_count": 57,
   "id": "294c37b8",
   "metadata": {},
   "outputs": [],
   "source": [
    "corelaweb <- cor(web_col)"
   ]
  },
  {
   "cell_type": "code",
   "execution_count": 58,
   "id": "5f916aa3",
   "metadata": {},
   "outputs": [
    {
     "data": {
      "text/html": [
       "<table>\n",
       "<thead><tr><th></th><th scope=col>Bounce.Rate</th><th scope=col>Conversion.Rate....</th><th scope=col>Transactions</th><th scope=col>Revenue</th></tr></thead>\n",
       "<tbody>\n",
       "\t<tr><th scope=row>Bounce.Rate</th><td> 1.00000000</td><td>-0.4701628 </td><td>0.04039158 </td><td>0.01784821 </td></tr>\n",
       "\t<tr><th scope=row>Conversion.Rate....</th><td>-0.47016277</td><td> 1.0000000 </td><td>0.30000281 </td><td>0.35128305 </td></tr>\n",
       "\t<tr><th scope=row>Transactions</th><td> 0.04039158</td><td> 0.3000028 </td><td>1.00000000 </td><td>0.98172366 </td></tr>\n",
       "\t<tr><th scope=row>Revenue</th><td> 0.01784821</td><td> 0.3512831 </td><td>0.98172366 </td><td>1.00000000 </td></tr>\n",
       "</tbody>\n",
       "</table>\n"
      ],
      "text/latex": [
       "\\begin{tabular}{r|llll}\n",
       "  & Bounce.Rate & Conversion.Rate.... & Transactions & Revenue\\\\\n",
       "\\hline\n",
       "\tBounce.Rate &  1.00000000 & -0.4701628  & 0.04039158  & 0.01784821 \\\\\n",
       "\tConversion.Rate.... & -0.47016277 &  1.0000000  & 0.30000281  & 0.35128305 \\\\\n",
       "\tTransactions &  0.04039158 &  0.3000028  & 1.00000000  & 0.98172366 \\\\\n",
       "\tRevenue &  0.01784821 &  0.3512831  & 0.98172366  & 1.00000000 \\\\\n",
       "\\end{tabular}\n"
      ],
      "text/markdown": [
       "\n",
       "| <!--/--> | Bounce.Rate | Conversion.Rate.... | Transactions | Revenue |\n",
       "|---|---|---|---|---|\n",
       "| Bounce.Rate |  1.00000000 | -0.4701628  | 0.04039158  | 0.01784821  |\n",
       "| Conversion.Rate.... | -0.47016277 |  1.0000000  | 0.30000281  | 0.35128305  |\n",
       "| Transactions |  0.04039158 |  0.3000028  | 1.00000000  | 0.98172366  |\n",
       "| Revenue |  0.01784821 |  0.3512831  | 0.98172366  | 1.00000000  |\n",
       "\n"
      ],
      "text/plain": [
       "                    Bounce.Rate Conversion.Rate.... Transactions Revenue   \n",
       "Bounce.Rate          1.00000000 -0.4701628          0.04039158   0.01784821\n",
       "Conversion.Rate.... -0.47016277  1.0000000          0.30000281   0.35128305\n",
       "Transactions         0.04039158  0.3000028          1.00000000   0.98172366\n",
       "Revenue              0.01784821  0.3512831          0.98172366   1.00000000"
      ]
     },
     "metadata": {},
     "output_type": "display_data"
    }
   ],
   "source": [
    "corelaweb"
   ]
  },
  {
   "cell_type": "code",
   "execution_count": 45,
   "id": "ac1d7baf",
   "metadata": {},
   "outputs": [
    {
     "name": "stdout",
     "output_type": "stream",
     "text": [
      "\n",
      "  There is a binary version available but the source version is later:\n",
      "         binary source needs_compilation\n",
      "corrplot   0.88   0.92             FALSE\n",
      "\n"
     ]
    },
    {
     "name": "stderr",
     "output_type": "stream",
     "text": [
      "installing the source package 'corrplot'\n",
      "\n"
     ]
    }
   ],
   "source": [
    "install.packages(\"corrplot\")"
   ]
  },
  {
   "cell_type": "code",
   "execution_count": 48,
   "id": "a600c2a7",
   "metadata": {},
   "outputs": [
    {
     "name": "stderr",
     "output_type": "stream",
     "text": [
      "corrplot 0.92 loaded\n"
     ]
    }
   ],
   "source": [
    "library(corrplot)"
   ]
  },
  {
   "cell_type": "code",
   "execution_count": 59,
   "id": "88c27311",
   "metadata": {},
   "outputs": [
    {
     "data": {
      "image/png": "[encoded data removed]",
      "text/plain": [
       "Plot with title \"\""
      ]
     },
     "metadata": {},
     "output_type": "display_data"
    }
   ],
   "source": [
    "corrplot(corelaweb)"
   ]
  },
  {
   "cell_type": "code",
   "execution_count": null,
   "id": "55531614",
   "metadata": {},
   "outputs": [],
   "source": []
  }
 ],
 "metadata": {
  "kernelspec": {
   "display_name": "R",
   "language": "R",
   "name": "ir"
  },
  "language_info": {
   "codemirror_mode": "r",
   "file_extension": ".r",
   "mimetype": "text/x-r-source",
   "name": "R",
   "pygments_lexer": "r",
   "version": "3.6.1"
  }
 },
 "nbformat": 4,
 "nbformat_minor": 5
}
